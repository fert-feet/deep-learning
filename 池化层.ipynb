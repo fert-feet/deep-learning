{
 "cells": [
  {
   "cell_type": "markdown",
   "id": "d1937892-7b22-47c9-ac88-e316d48a5c5e",
   "metadata": {},
   "source": [
    "### 池化层运算"
   ]
  },
  {
   "cell_type": "markdown",
   "id": "213c2415-34ed-41b9-9c10-057f55f3f504",
   "metadata": {},
   "source": [
    "实现池化层正向传播"
   ]
  },
  {
   "cell_type": "code",
   "execution_count": 1,
   "id": "75d69f2c-9abf-464a-aa71-4f4853554b6c",
   "metadata": {},
   "outputs": [],
   "source": [
    "import torch\n",
    "from torch import nn\n",
    "from d2l import torch as d2l"
   ]
  },
  {
   "cell_type": "code",
   "execution_count": 35,
   "id": "82664ff8-a277-4a99-b773-b82eac69ca80",
   "metadata": {},
   "outputs": [],
   "source": [
    "def pool2d(X, pool_size, mode='max'):\n",
    "    p_h, p_w = pool_size\n",
    "    X_h, X_w = X.shape\n",
    "    Y_h = X_h - p_h + 1\n",
    "    Y_w = X_w - p_w + 1\n",
    "    Y = torch.zeros(Y_h, Y_w)\n",
    "    for i in range(Y_h):\n",
    "        for j in range(Y_w):\n",
    "            if mode == 'max':\n",
    "                Y[i, j] = X[i:i + p_h, j:j + p_w].max()\n",
    "            if mode == 'avg':\n",
    "                Y[i, j] = X[i:i + p_h, j:j + p_w].mean()\n",
    "\n",
    "    return Y"
   ]
  },
  {
   "cell_type": "code",
   "execution_count": 38,
   "id": "b587c308-4958-437a-a4f5-f4e358e4dc44",
   "metadata": {},
   "outputs": [
    {
     "data": {
      "text/plain": [
       "(tensor([[0., 1., 2.],\n",
       "         [3., 4., 5.],\n",
       "         [6., 7., 8.]]),\n",
       " tensor([[2., 3.],\n",
       "         [5., 6.]]))"
      ]
     },
     "execution_count": 38,
     "metadata": {},
     "output_type": "execute_result"
    }
   ],
   "source": [
    "X = torch.arange(9.).reshape(3, 3)\n",
    "pool_size = (2, 2)\n",
    "Y = pool2d(X, pool_size, mode='avg')\n",
    "X, Y"
   ]
  },
  {
   "cell_type": "markdown",
   "id": "a98b73aa-1489-4dfb-a459-38dd4c9eb415",
   "metadata": {},
   "source": [
    "### 填充和步幅"
   ]
  },
  {
   "cell_type": "markdown",
   "id": "d71f09cd-5a80-4b8e-94aa-2eb03ea50d34",
   "metadata": {},
   "source": [
    "使用 `torch` 框架提供的方法，分别是最大池化和平均池化"
   ]
  },
  {
   "cell_type": "code",
   "execution_count": 50,
   "id": "8534d1e0-aa52-46eb-a5fc-6c23666b6520",
   "metadata": {},
   "outputs": [
    {
     "data": {
      "text/plain": [
       "tensor([[[[4., 5.],\n",
       "          [7., 8.]]]])"
      ]
     },
     "execution_count": 50,
     "metadata": {},
     "output_type": "execute_result"
    }
   ],
   "source": [
    "X = torch.arange(9.).reshape(1, 1, 3, 3) # 输入批量大小，通道数，高宽\n",
    "torch_maxPool2d = nn.MaxPool2d(2, stride=1) # pytorch 框架中池化层的步幅默认和池化窗口大小相同（不重叠），但也可以更改\n",
    "torch_maxPool2d(X)"
   ]
  },
  {
   "cell_type": "code",
   "execution_count": 53,
   "id": "969a4a2c-3452-4eac-b744-dfde9256e19b",
   "metadata": {},
   "outputs": [
    {
     "data": {
      "text/plain": [
       "tensor([[[[2., 3.],\n",
       "          [5., 6.]]]])"
      ]
     },
     "execution_count": 53,
     "metadata": {},
     "output_type": "execute_result"
    }
   ],
   "source": [
    "torch_avgPool2d = nn.AvgPool2d(2, stride=1)\n",
    "torch_avgPool2d(X)"
   ]
  },
  {
   "cell_type": "code",
   "execution_count": null,
   "id": "99f1ea13-c47d-4da3-87cd-5594df66ff88",
   "metadata": {},
   "outputs": [],
   "source": []
  }
 ],
 "metadata": {
  "kernelspec": {
   "display_name": "Python 3 (ipykernel)",
   "language": "python",
   "name": "python3"
  },
  "language_info": {
   "codemirror_mode": {
    "name": "ipython",
    "version": 3
   },
   "file_extension": ".py",
   "mimetype": "text/x-python",
   "name": "python",
   "nbconvert_exporter": "python",
   "pygments_lexer": "ipython3",
   "version": "3.10.14"
  }
 },
 "nbformat": 4,
 "nbformat_minor": 5
}
