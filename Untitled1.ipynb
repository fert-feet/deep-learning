{
 "cells": [
  {
   "cell_type": "markdown",
   "id": "cbb4f74b-1528-4cb6-acc2-aa8e72142f30",
   "metadata": {},
   "source": [
    "初始角度:`origin_an`，现在的角度: `current_an`，overload_an: `（+-）40`"
   ]
  },
  {
   "cell_type": "code",
   "execution_count": null,
   "id": "10283ac5-0794-4939-8b93-66917c2ebf0f",
   "metadata": {},
   "outputs": [],
   "source": [
    "origin_an = 0 (10)\n",
    "current_an = 0\n",
    "overload_an = 40\n",
    "minus_an = 0\n",
    "\n",
    "def act(origin_an, current_an):\n",
    "    if (current_an - origin_an(10) < -overload_an(-40)) || (current_an + origin_an(10) > overload_an(40)):\n",
    "        return 1\n",
    "\n"
   ]
  }
 ],
 "metadata": {
  "kernelspec": {
   "display_name": "Python 3 (ipykernel)",
   "language": "python",
   "name": "python3"
  },
  "language_info": {
   "codemirror_mode": {
    "name": "ipython",
    "version": 3
   },
   "file_extension": ".py",
   "mimetype": "text/x-python",
   "name": "python",
   "nbconvert_exporter": "python",
   "pygments_lexer": "ipython3",
   "version": "3.10.14"
  }
 },
 "nbformat": 4,
 "nbformat_minor": 5
}
