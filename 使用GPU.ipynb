{
 "cells": [
  {
   "cell_type": "markdown",
   "id": "cf49f851-179d-4e6f-b191-1502d486ea3b",
   "metadata": {},
   "source": [
    "### 计算资源"
   ]
  },
  {
   "cell_type": "code",
   "execution_count": 1,
   "id": "f951a567-a1ae-4703-a0c6-5ea53f9c6cd9",
   "metadata": {},
   "outputs": [],
   "source": [
    "import torch\n",
    "from torch import nn\n",
    "from d2l import torch as d2l"
   ]
  },
  {
   "cell_type": "code",
   "execution_count": 2,
   "id": "444185c0-3032-4230-b3da-ad99fdfa75e1",
   "metadata": {},
   "outputs": [
    {
     "data": {
      "text/plain": [
       "(device(type='cpu'), device(type='cuda', index=0), 1)"
      ]
     },
     "execution_count": 2,
     "metadata": {},
     "output_type": "execute_result"
    }
   ],
   "source": [
    "torch.device('cpu'), torch.device('cuda:0'), torch.cuda.device_count()"
   ]
  },
  {
   "cell_type": "markdown",
   "id": "561603fd-67df-46e0-aedc-4b5181b6f2bf",
   "metadata": {},
   "source": [
    "有 GPU 资源就用 GPU 计算，否则就 CPU"
   ]
  },
  {
   "cell_type": "code",
   "execution_count": 27,
   "id": "96ddf868-b3ec-4149-b008-4d3b98547872",
   "metadata": {},
   "outputs": [],
   "source": [
    "def try_gpu():\n",
    "    return torch.device('cuda') if torch.cuda.device_count() > 0 else torch.device('cpu')\n",
    "\n",
    "def try_all_gpu():\n",
    "    devices = [torch.device(f'cuda:{i}') for i in range(torch.cuda.device_count())]\n",
    "    return devices if torch.cuda.device_count() > 0 else torch.device('cpu')"
   ]
  },
  {
   "cell_type": "code",
   "execution_count": 28,
   "id": "c334ee65-4883-4def-8c8f-0d8f32ea32be",
   "metadata": {},
   "outputs": [
    {
     "data": {
      "text/plain": [
       "(device(type='cuda'), [device(type='cuda', index=0)])"
      ]
     },
     "execution_count": 28,
     "metadata": {},
     "output_type": "execute_result"
    }
   ],
   "source": [
    "try_gpu(), try_all_gpu()"
   ]
  },
  {
   "cell_type": "markdown",
   "id": "0e6f1bea-a761-4d59-9400-13643e266c8e",
   "metadata": {},
   "source": [
    "默认 `tensor` 在cpu的内存上"
   ]
  },
  {
   "cell_type": "code",
   "execution_count": 31,
   "id": "e7e07071-ba11-42a3-928e-5720b58bc151",
   "metadata": {},
   "outputs": [
    {
     "data": {
      "text/plain": [
       "device(type='cpu')"
      ]
     },
     "execution_count": 31,
     "metadata": {},
     "output_type": "execute_result"
    }
   ],
   "source": [
    "x = torch.tensor([1, 2, 3])\n",
    "x.device"
   ]
  },
  {
   "cell_type": "code",
   "execution_count": 38,
   "id": "202d9494-7222-4c64-8fc3-e5c09b2af5a5",
   "metadata": {},
   "outputs": [
    {
     "data": {
      "text/plain": [
       "tensor([0, 1], device='cuda:0')"
      ]
     },
     "execution_count": 38,
     "metadata": {},
     "output_type": "execute_result"
    }
   ],
   "source": [
    "x = torch.arange(2, device=try_gpu())\n",
    "x"
   ]
  },
  {
   "cell_type": "markdown",
   "id": "d32f0cfe-9551-4f77-8581-5631b76d3cc3",
   "metadata": {},
   "source": [
    "需要注意的是，CPU 和 GPU 上的数据互相移动是很慢的，所以要确定数据都是在 GPU 上或者 CPU 上创建并运算"
   ]
  },
  {
   "cell_type": "markdown",
   "id": "1b33d14c-2e7f-4381-9a8a-e7d9d7737461",
   "metadata": {},
   "source": [
    "### 在 GPU 上的神经网络"
   ]
  },
  {
   "cell_type": "code",
   "execution_count": 42,
   "id": "35ccb2a1-549a-43af-a8ed-37ba62f49038",
   "metadata": {},
   "outputs": [
    {
     "data": {
      "text/plain": [
       "(tensor([[-0.6507, -0.0030, -0.3536],\n",
       "         [-0.7257,  0.0290, -0.4442]], device='cuda:0',\n",
       "        grad_fn=<AddmmBackward0>),\n",
       " device(type='cuda', index=0))"
      ]
     },
     "execution_count": 42,
     "metadata": {},
     "output_type": "execute_result"
    }
   ],
   "source": [
    "net = nn.Sequential(nn.Linear(2, 3))\n",
    "net = net.to(device=try_gpu()) # net.to() 将模型在 GPU 上复制一份\n",
    "\n",
    "X = torch.rand(2, 2, device=try_gpu())\n",
    "net(X), net[0].weight.data.device"
   ]
  }
 ],
 "metadata": {
  "kernelspec": {
   "display_name": "Python 3 (ipykernel)",
   "language": "python",
   "name": "python3"
  },
  "language_info": {
   "codemirror_mode": {
    "name": "ipython",
    "version": 3
   },
   "file_extension": ".py",
   "mimetype": "text/x-python",
   "name": "python",
   "nbconvert_exporter": "python",
   "pygments_lexer": "ipython3",
   "version": "3.10.14"
  }
 },
 "nbformat": 4,
 "nbformat_minor": 5
}
