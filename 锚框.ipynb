{
 "cells": [
  {
   "cell_type": "code",
   "execution_count": 1,
   "id": "2a431b58-5430-4488-92dd-c96ffd44da0d",
   "metadata": {},
   "outputs": [],
   "source": [
    "%matplotlib inline\n",
    "import torch\n",
    "from d2l import torch as d2l"
   ]
  },
  {
   "cell_type": "markdown",
   "id": "a8e73dc1-9550-480f-889f-f7023e9adac7",
   "metadata": {},
   "source": [
    "设置打印精度为保留小数点后 2 位"
   ]
  },
  {
   "cell_type": "code",
   "execution_count": 2,
   "id": "071c2d57-52c7-4e9b-9b26-f9a25ea42146",
   "metadata": {},
   "outputs": [],
   "source": [
    "torch.set_printoptions(2)"
   ]
  },
  {
   "cell_type": "markdown",
   "id": "ff3854f8-9e1a-41ff-9696-9c97f1faf694",
   "metadata": {},
   "source": [
    "### 生成锚框"
   ]
  },
  {
   "cell_type": "markdown",
   "id": "302bf22b-a944-460b-838f-63baad177dcb",
   "metadata": {},
   "source": [
    "生成锚框的高度和宽度分别是 $hs\\sqrt {r}, ws \\sqrt {r}$，但是只考虑组合 $(s_1, r_1),...,(s_1, r_m),(s_2, r_1),...,(s_n, r_1)$，每个像素的锚框数量就是 n+m-1"
   ]
  },
  {
   "cell_type": "code",
   "execution_count": 5,
   "id": "fa8d81d1-2d8a-4063-a266-3d68be687fab",
   "metadata": {},
   "outputs": [],
   "source": [
    "def multibox_prior(data, sizes, ratios):\n",
    "    \"\"\"生成以每个像素为中心具有不同形状的锚框\"\"\"\n",
    "    in_height, in_width = data.shape[-2:]\n",
    "    device, num_sizes, num_ratios = data.device, len(sizes), len(ratios)\n",
    "    boxes_per_pixel = (num_sizes + num_ratios - 1)\n",
    "    size_tensor = torch.tensor(sizes, device=device)\n",
    "    ratio_tensor = torch.tensor(ratios, device=device)\n",
    "\n",
    "    # 为了将锚点移动到像素的中心，需要设置偏移量。\n",
    "    # 因为一个像素的高为1且宽为1，我们选择偏移我们的中心0.5\n",
    "    offset_h, offset_w = 0.5, 0.5 # 像素坐标是从左下角开始的，往右上偏移0.5到中心\n",
    "    steps_h = 1.0 / in_height  # 在y轴上得到一个像素的步长\n",
    "    steps_w = 1.0 / in_width\n",
    "\n",
    "    # 生成锚框的所有中心点\n",
    "    center_h = (torch.arange(in_height, device=device) + offset_h) * steps_h # 首先生成垂直方向的 0 到 height 数字，再加偏移到中心，乘上一个步长得到中心点\n",
    "    center_w = (torch.arange(in_width, device=device) + offset_w) * steps_w\n",
    "    shift_y, shift_x = torch.meshgrid(center_h, center_w, indexing='ij')\n",
    "    shift_y, shift_x = shift_y.reshape(-1), shift_x.reshape(-1) # 将中心点y和x坐标展平成两个一维张量\n",
    "\n",
    "    # 生成“boxes_per_pixel”个高和宽，\n",
    "    # 之后用于创建锚框的四角坐标(xmin,xmax,ymin,ymax)\n",
    "    w = torch.cat((size_tensor * torch.sqrt(ratio_tensor[0]),\n",
    "                   sizes[0] * torch.sqrt(ratio_tensor[1:])))\\\n",
    "                   * in_height / in_width  # 处理矩形输入\n",
    "    h = torch.cat((size_tensor / torch.sqrt(ratio_tensor[0]),\n",
    "                   sizes[0] / torch.sqrt(ratio_tensor[1:])))\n",
    "    # 除以2来获得半高和半宽\n",
    "    anchor_manipulations = torch.stack((-w, -h, w, h)).T.repeat(\n",
    "                                        in_height * in_width, 1) / 2\n",
    "\n",
    "    # 每个中心点都将有“boxes_per_pixel”个锚框，\n",
    "    # 所以生成含所有锚框中心的网格，重复了“boxes_per_pixel”次\n",
    "    out_grid = torch.stack([shift_x, shift_y, shift_x, shift_y],\n",
    "                dim=1).repeat_interleave(boxes_per_pixel, dim=0)\n",
    "    output = out_grid + anchor_manipulations\n",
    "    return output.unsqueeze(0)"
   ]
  },
  {
   "cell_type": "markdown",
   "id": "4af30ebb-3cda-41dd-9b62-ee4e7557f099",
   "metadata": {},
   "source": [
    "### 计算锚框和边界框的 IoU"
   ]
  },
  {
   "cell_type": "code",
   "execution_count": 17,
   "id": "bd745405-a23b-4ec4-95a1-c955453055c3",
   "metadata": {},
   "outputs": [],
   "source": [
    "def box_iou(boxes1, boxes2):\n",
    "    \"\"\"计算两个锚框或边界框列表中成对的交并比\"\"\"\n",
    "    box_area = lambda boxes: ((boxes[:, 2] - boxes[:, 0]) * # 计算每个框的宽度（右下角的x坐标减去左上角的x坐标）\n",
    "                              (boxes[:, 3] - boxes[:, 1])) # 计算每个框的高度（右下角的y坐标减去左上角的y坐标）\n",
    "    # boxes1,boxes2,areas1,areas2的形状:\n",
    "    # boxes1：(boxes1的数量,4),\n",
    "    # boxes2：(boxes2的数量,4),\n",
    "    # areas1：(boxes1的数量,),\n",
    "    # areas2：(boxes2的数量,)\n",
    "    areas1 = box_area(boxes1) # 计算 锚框和边界框的面积\n",
    "    areas2 = box_area(boxes2)\n",
    "    # inter_upperlefts,inter_lowerrights,inters的形状:\n",
    "    # (boxes1的数量,boxes2的数量,2)\n",
    "    inter_upperlefts = torch.max(boxes1[:, None, :2], boxes2[:, :2])\n",
    "    inter_lowerrights = torch.min(boxes1[:, None, 2:], boxes2[:, 2:])\n",
    "    inters = (inter_lowerrights - inter_upperlefts).clamp(min=0)\n",
    "    # inter_areasandunion_areas的形状:(boxes1的数量,boxes2的数量)\n",
    "    inter_areas = inters[:, :, 0] * inters[:, :, 1]\n",
    "    union_areas = areas1[:, None] + areas2 - inter_areas\n",
    "    return inter_areas / union_areas\n",
    "\n",
    "    # h = max(0, min(box1[2], box2[2]) - max(box1[0], box2[0]))\n",
    "    # w = max(0, min(box1[3], box2[3]) - max(box1[1], box2[1]))\n",
    "    # area_box1 = ((box1[2] - box1[0]) * (box1[3] - box1[1]))\n",
    "    # area_box2 = ((box2[2] - box2[0]) * (box2[3] - box2[1]))\n",
    "    # inter = w * h\n",
    "    # union = area_box1 + area_box2 - inter\n",
    "    # iou = inter / union 这样子更能理解，只是这里包含多个框，维度不一样而已"
   ]
  },
  {
   "cell_type": "markdown",
   "id": "04fe97f0-4f78-45ac-a6af-08076bfb559f",
   "metadata": {},
   "source": [
    "### 关联接近的边界框和锚框"
   ]
  },
  {
   "cell_type": "code",
   "execution_count": 12,
   "id": "1c8105ba-2db1-4b44-b839-a0d64579d19c",
   "metadata": {},
   "outputs": [],
   "source": [
    "def assign_anchor_to_bbox(ground_truth, anchors, device, iou_threshold=0.5):\n",
    "    \"\"\"将最接近的真实边界框分配给锚框\"\"\"\n",
    "    num_anchors, num_gt_boxes = anchors.shape[0], ground_truth.shape[0]\n",
    "    # 位于第i行和第j列的元素x_ij是锚框i和真实边界框j的IoU\n",
    "    jaccard = box_iou(anchors, ground_truth) # jaccard[i, j]表示第i个锚框与第j个真实边界框的IoU\n",
    "    # 对于每个锚框，分配的真实边界框的张量\n",
    "    anchors_bbox_map = torch.full((num_anchors,), -1, dtype=torch.long,\n",
    "                                  device=device)\n",
    "    # 根据阈值，决定是否分配真实边界框\n",
    "    max_ious, indices = torch.max(jaccard, dim=1)\n",
    "    anc_i = torch.nonzero(max_ious >= iou_threshold).reshape(-1)\n",
    "    box_j = indices[max_ious >= iou_threshold]\n",
    "    anchors_bbox_map[anc_i] = box_j # 通过 map 方式分配\n",
    "    col_discard = torch.full((num_anchors,), -1)\n",
    "    row_discard = torch.full((num_gt_boxes,), -1)\n",
    "    for _ in range(num_gt_boxes):\n",
    "        max_idx = torch.argmax(jaccard)\n",
    "        box_idx = (max_idx % num_gt_boxes).long()\n",
    "        anc_idx = (max_idx / num_gt_boxes).long()\n",
    "        anchors_bbox_map[anc_idx] = box_idx\n",
    "        jaccard[:, box_idx] = col_discard\n",
    "        jaccard[anc_idx, :] = row_discard\n",
    "    return anchors_bbox_map"
   ]
  },
  {
   "cell_type": "markdown",
   "id": "4d5cdda4-44e0-4df0-9df5-288069248927",
   "metadata": {},
   "source": [
    "### 标记锚框为类别框或背景框"
   ]
  },
  {
   "cell_type": "code",
   "execution_count": 16,
   "id": "c179d2e2-0444-493b-a68a-949614e4ef71",
   "metadata": {},
   "outputs": [],
   "source": [
    "#@save\n",
    "def multibox_target(anchors, labels):\n",
    "    \"\"\"使用真实边界框标记锚框\"\"\"\n",
    "    batch_size, anchors = labels.shape[0], anchors.squeeze(0)\n",
    "    batch_offset, batch_mask, batch_class_labels = [], [], []\n",
    "    device, num_anchors = anchors.device, anchors.shape[0]\n",
    "    for i in range(batch_size):\n",
    "        label = labels[i, :, :]\n",
    "        anchors_bbox_map = assign_anchor_to_bbox(\n",
    "            label[:, 1:], anchors, device)\n",
    "        bbox_mask = ((anchors_bbox_map >= 0).float().unsqueeze(-1)).repeat(\n",
    "            1, 4) # 用于标记哪些锚框被分配了真实边界框，以及哪些锚框没有被分配\n",
    "        # 将类标签和分配的边界框坐标初始化为零\n",
    "        class_labels = torch.zeros(num_anchors, dtype=torch.long,\n",
    "                                   device=device)\n",
    "        assigned_bb = torch.zeros((num_anchors, 4), dtype=torch.float32,\n",
    "                                  device=device)\n",
    "        # 使用真实边界框来标记锚框的类别。\n",
    "        # 如果一个锚框没有被分配，标记其为背景（值为零）\n",
    "        indices_true = torch.nonzero(anchors_bbox_map >= 0)\n",
    "        bb_idx = anchors_bbox_map[indices_true]\n",
    "        class_labels[indices_true] = label[bb_idx, 0].long() + 1 # 非背景类别索引递增\n",
    "        assigned_bb[indices_true] = label[bb_idx, 1:]\n",
    "        # 偏移量转换\n",
    "        offset = offset_boxes(anchors, assigned_bb) * bbox_mask\n",
    "        batch_offset.append(offset.reshape(-1))\n",
    "        batch_mask.append(bbox_mask.reshape(-1))\n",
    "        batch_class_labels.append(class_labels)\n",
    "    bbox_offset = torch.stack(batch_offset)\n",
    "    bbox_mask = torch.stack(batch_mask)\n",
    "    class_labels = torch.stack(batch_class_labels)\n",
    "    return (bbox_offset, bbox_mask, class_labels)"
   ]
  },
  {
   "cell_type": "markdown",
   "id": "3e38f7de-4ea7-486f-b91c-c5a8d9d3d1e9",
   "metadata": {},
   "source": [
    "### MNS 算法保留和去除边界框"
   ]
  },
  {
   "cell_type": "code",
   "execution_count": 15,
   "id": "ad52f069-c3f3-4cfa-ba58-98eeb2dd9cfd",
   "metadata": {},
   "outputs": [],
   "source": [
    "#@save\n",
    "def multibox_detection(cls_probs, offset_preds, anchors, nms_threshold=0.5,\n",
    "                       pos_threshold=0.009999999):\n",
    "    \"\"\"使用非极大值抑制来预测边界框\"\"\"\n",
    "    device, batch_size = cls_probs.device, cls_probs.shape[0]\n",
    "    anchors = anchors.squeeze(0)\n",
    "    num_classes, num_anchors = cls_probs.shape[1], cls_probs.shape[2]\n",
    "    out = []\n",
    "    for i in range(batch_size):\n",
    "        cls_prob, offset_pred = cls_probs[i], offset_preds[i].reshape(-1, 4)\n",
    "        conf, class_id = torch.max(cls_prob[1:], 0)\n",
    "        predicted_bb = offset_inverse(anchors, offset_pred)\n",
    "        keep = nms(predicted_bb, conf, nms_threshold)\n",
    "\n",
    "        # 找到所有的non_keep索引，并将类设置为背景\n",
    "        all_idx = torch.arange(num_anchors, dtype=torch.long, device=device)\n",
    "        combined = torch.cat((keep, all_idx))\n",
    "        uniques, counts = combined.unique(return_counts=True)\n",
    "        non_keep = uniques[counts == 1]\n",
    "        all_id_sorted = torch.cat((keep, non_keep))\n",
    "        class_id[non_keep] = -1\n",
    "        class_id = class_id[all_id_sorted]\n",
    "        conf, predicted_bb = conf[all_id_sorted], predicted_bb[all_id_sorted]\n",
    "        # pos_threshold是一个用于非背景预测的阈值\n",
    "        below_min_idx = (conf < pos_threshold)\n",
    "        class_id[below_min_idx] = -1\n",
    "        conf[below_min_idx] = 1 - conf[below_min_idx]\n",
    "        pred_info = torch.cat((class_id.unsqueeze(1),\n",
    "                               conf.unsqueeze(1),\n",
    "                               predicted_bb), dim=1)\n",
    "        out.append(pred_info)\n",
    "    return torch.stack(out)"
   ]
  },
  {
   "cell_type": "code",
   "execution_count": null,
   "id": "4c7dc0ca-ae5e-4ffe-9376-550b091b2a0a",
   "metadata": {},
   "outputs": [],
   "source": []
  }
 ],
 "metadata": {
  "kernelspec": {
   "display_name": "Python 3 (ipykernel)",
   "language": "python",
   "name": "python3"
  },
  "language_info": {
   "codemirror_mode": {
    "name": "ipython",
    "version": 3
   },
   "file_extension": ".py",
   "mimetype": "text/x-python",
   "name": "python",
   "nbconvert_exporter": "python",
   "pygments_lexer": "ipython3",
   "version": "3.10.14"
  }
 },
 "nbformat": 4,
 "nbformat_minor": 5
}
