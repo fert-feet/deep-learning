{
 "cells": [
  {
   "cell_type": "markdown",
   "id": "e3b3ef70-1b99-4a29-a4ee-02a7949429d2",
   "metadata": {},
   "source": [
    "# 自动求导"
   ]
  },
  {
   "cell_type": "markdown",
   "id": "24b5082a-8283-4f14-9b2e-d3a57071132e",
   "metadata": {},
   "source": [
    "假设对函数$y = 2x^{T}x$，关于列向量 $x$ 求导，实际上就是 $y = 2x^2$（符号形式）"
   ]
  },
  {
   "cell_type": "code",
   "execution_count": 2,
   "id": "af26e0b0-769e-45aa-be2c-511574c60375",
   "metadata": {},
   "outputs": [
    {
     "data": {
      "text/plain": [
       "tensor([0., 1., 2., 3.])"
      ]
     },
     "execution_count": 2,
     "metadata": {},
     "output_type": "execute_result"
    }
   ],
   "source": [
    "import torch\n",
    "x = torch.arange(4.0)\n",
    "x"
   ]
  },
  {
   "cell_type": "markdown",
   "id": "d6aeda3a-9d87-40f8-92ba-5fdf086690ff",
   "metadata": {},
   "source": [
    "在计算 $y$ 关于 $x$ 的梯度之前，需要一个地方来存储梯度"
   ]
  },
  {
   "cell_type": "code",
   "execution_count": 8,
   "id": "dd008f98-6128-474b-a064-1f551ff7e94e",
   "metadata": {},
   "outputs": [],
   "source": [
    "x.requires_grad_(True) # 等价 x = torch.arange(4.0, requires_grad = True)\n",
    "x.grad # 默认为 None"
   ]
  },
  {
   "cell_type": "markdown",
   "id": "1606ad04-8ddc-44c1-a1b6-e23f6f1c2003",
   "metadata": {},
   "source": [
    "计算 $y$, 隐式计算图"
   ]
  },
  {
   "cell_type": "code",
   "execution_count": 11,
   "id": "92c74edc-ce45-4a10-bcf5-fd79fcfb69f8",
   "metadata": {},
   "outputs": [
    {
     "data": {
      "text/plain": [
       "tensor(28., grad_fn=<MulBackward0>)"
      ]
     },
     "execution_count": 11,
     "metadata": {},
     "output_type": "execute_result"
    }
   ],
   "source": [
    "y = 2 * torch.dot(x, x)\n",
    "y"
   ]
  },
  {
   "cell_type": "markdown",
   "id": "3fc62b10-3517-4d93-b398-7d76467f6f00",
   "metadata": {},
   "source": [
    "通过反向传播函数 `backward()` 自动计算 $y$ 关于 $x$ 每个分量的梯度"
   ]
  },
  {
   "cell_type": "code",
   "execution_count": 12,
   "id": "5d3d1be9-c4ab-4924-8dad-8575865a282d",
   "metadata": {},
   "outputs": [
    {
     "data": {
      "text/plain": [
       "tensor([ 0.,  4.,  8., 12.])"
      ]
     },
     "execution_count": 12,
     "metadata": {},
     "output_type": "execute_result"
    }
   ],
   "source": [
    "y.backward()\n",
    "x.grad"
   ]
  },
  {
   "cell_type": "code",
   "execution_count": 13,
   "id": "11c42c97-1c3a-4710-9bb0-dd7ae1ac5c73",
   "metadata": {},
   "outputs": [
    {
     "data": {
      "text/plain": [
       "tensor([True, True, True, True])"
      ]
     },
     "execution_count": 13,
     "metadata": {},
     "output_type": "execute_result"
    }
   ],
   "source": [
    "x.grad == 4 * x"
   ]
  },
  {
   "cell_type": "markdown",
   "id": "a8c29ab4-7acd-47a3-af2e-d128c6cdd0e8",
   "metadata": {},
   "source": [
    "默认情况下，`Pytorch` 会累积梯度，在计算下一个值之前要先清除之前值"
   ]
  },
  {
   "cell_type": "code",
   "execution_count": 27,
   "id": "d6d1e3be-65c2-43a6-92e5-3e97bb5927b6",
   "metadata": {},
   "outputs": [
    {
     "data": {
      "text/plain": [
       "tensor([1., 1., 1., 1.])"
      ]
     },
     "execution_count": 27,
     "metadata": {},
     "output_type": "execute_result"
    }
   ],
   "source": [
    "x.grad.zero_()\n",
    "y = x.sum() # x1 + x2 + x3 + x4\n",
    "y.backward()\n",
    "x.grad"
   ]
  },
  {
   "cell_type": "markdown",
   "id": "4bdfbf67-548c-4d19-adce-a97a1d3b6a9d",
   "metadata": {},
   "source": [
    "深度学习中，计算微分矩阵不是目的，目的是批量中每个样本单独计算的偏导数之和"
   ]
  },
  {
   "cell_type": "code",
   "execution_count": 29,
   "id": "24b40f56-e49a-4801-9f1f-7ddc4e32d2ea",
   "metadata": {},
   "outputs": [
    {
     "data": {
      "text/plain": [
       "tensor([0., 2., 4., 6.])"
      ]
     },
     "execution_count": 29,
     "metadata": {},
     "output_type": "execute_result"
    }
   ],
   "source": [
    "x.grad.zero_()\n",
    "y = x * x\n",
    "y.sum().backward()\n",
    "x.grad"
   ]
  },
  {
   "cell_type": "markdown",
   "id": "62753cd9-bf93-4eec-bd01-cb5cfdf16c74",
   "metadata": {},
   "source": [
    "将某些计算移到计算图之外，使用 `detach()` 函数将 $u$ 作为一个常数，而不是关于 $x$ 的函数"
   ]
  },
  {
   "cell_type": "code",
   "execution_count": 37,
   "id": "1351d7b1-29d7-4b28-a4c9-b46f30c8d08a",
   "metadata": {},
   "outputs": [
    {
     "data": {
      "text/plain": [
       "(tensor([0., 1., 4., 9.]), tensor([True, True, True, True]))"
      ]
     },
     "execution_count": 37,
     "metadata": {},
     "output_type": "execute_result"
    }
   ],
   "source": [
    "x.grad.zero_()\n",
    "y = x * x\n",
    "u = y.detach()\n",
    "z = u * x\n",
    "z.sum().backward()\n",
    "x.grad, x.grad == u"
   ]
  },
  {
   "cell_type": "markdown",
   "id": "18cbb93f-49ee-4df6-9b36-00edbd574c34",
   "metadata": {},
   "source": [
    "即使构建函数的计算图需要通过 Python 控制流，我们仍然可以计算得到的变量的梯度"
   ]
  },
  {
   "cell_type": "code",
   "execution_count": 53,
   "id": "cc266ffc-197b-45d6-80b9-60cc7353d209",
   "metadata": {},
   "outputs": [
    {
     "data": {
      "text/plain": [
       "tensor(True)"
      ]
     },
     "execution_count": 53,
     "metadata": {},
     "output_type": "execute_result"
    }
   ],
   "source": [
    "def f(a):\n",
    "    b = a * 2\n",
    "    while b.norm() < 1000:\n",
    "        b = b * 2\n",
    "    if b.sum() > 0:\n",
    "        c = b\n",
    "    else:\n",
    "        c = 100 * b\n",
    "    return c\n",
    "\n",
    "a = torch.randn(size = (), requires_grad = True)\n",
    "d = f(a)\n",
    "d.backward()\n",
    "a.grad == d / a # f(a) 最终是关于 a 的线性函数，b = f(a)，b 对 a 求导最终就是线性函数的系数，也就是 b / a"
   ]
  },
  {
   "cell_type": "code",
   "execution_count": null,
   "id": "f2778c36-929e-4596-aee1-9c8342526534",
   "metadata": {},
   "outputs": [],
   "source": []
  }
 ],
 "metadata": {
  "kernelspec": {
   "display_name": "Python 3 (ipykernel)",
   "language": "python",
   "name": "python3"
  },
  "language_info": {
   "codemirror_mode": {
    "name": "ipython",
    "version": 3
   },
   "file_extension": ".py",
   "mimetype": "text/x-python",
   "name": "python",
   "nbconvert_exporter": "python",
   "pygments_lexer": "ipython3",
   "version": "3.10.14"
  }
 },
 "nbformat": 4,
 "nbformat_minor": 5
}
