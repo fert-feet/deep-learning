{
 "cells": [
  {
   "cell_type": "markdown",
   "id": "19cb85ef-cb9c-4999-8175-2828355f211b",
   "metadata": {},
   "source": [
    "## 数据操作"
   ]
  },
  {
   "cell_type": "code",
   "execution_count": 8,
   "id": "7d2643a0-8cd9-45cf-ab5e-9f1d3b80dfff",
   "metadata": {},
   "outputs": [],
   "source": [
    "import torch"
   ]
  },
  {
   "cell_type": "markdown",
   "id": "003b0284-83de-4a85-a03a-705853a5acb7",
   "metadata": {},
   "source": [
    "张量表示一个数值组成的数组，可能有多个维度（arange左闭右开区间）"
   ]
  },
  {
   "cell_type": "code",
   "execution_count": 9,
   "id": "37fc2153-493f-403e-8b3a-62889616f4ca",
   "metadata": {},
   "outputs": [
    {
     "data": {
      "text/plain": [
       "tensor([ 0,  1,  2,  3,  4,  5,  6,  7,  8,  9, 10, 11])"
      ]
     },
     "execution_count": 9,
     "metadata": {},
     "output_type": "execute_result"
    }
   ],
   "source": [
    "x = torch.arange(12)\n",
    "x"
   ]
  },
  {
   "cell_type": "markdown",
   "id": "73f2f683-13cb-4358-bbaa-98912a7fa395",
   "metadata": {},
   "source": [
    "通过张量的 `shape` 属性访问张量的性质,`numel` 函数访问元素总数"
   ]
  },
  {
   "cell_type": "code",
   "execution_count": 90,
   "id": "f945891e-08b3-4a7a-b6ac-40dc9233d702",
   "metadata": {},
   "outputs": [
    {
     "data": {
      "text/plain": [
       "torch.Size([3, 4])"
      ]
     },
     "execution_count": 90,
     "metadata": {},
     "output_type": "execute_result"
    }
   ],
   "source": [
    "x.shape"
   ]
  },
  {
   "cell_type": "markdown",
   "id": "a43c3d1f-2252-46c3-ad05-59a00d1452e2",
   "metadata": {},
   "source": [
    "`reshape` 改变张量形状而不改变元素，下指三行四列的二维数组"
   ]
  },
  {
   "cell_type": "code",
   "execution_count": 91,
   "id": "0013cbe9-63c0-48af-8cd4-e60ba4e6067e",
   "metadata": {},
   "outputs": [
    {
     "data": {
      "text/plain": [
       "tensor([[0., 0., 0., 0.],\n",
       "        [0., 0., 0., 0.],\n",
       "        [0., 0., 0., 0.]])"
      ]
     },
     "execution_count": 91,
     "metadata": {},
     "output_type": "execute_result"
    }
   ],
   "source": [
    "X = x.reshape(3, 4)\n",
    "X"
   ]
  },
  {
   "cell_type": "markdown",
   "id": "1f97b4d9-8de8-423e-bb73-a7d6a4208dfd",
   "metadata": {},
   "source": [
    "`ones` 创建全 1 张量，`zeros` 创建全 0 张量"
   ]
  },
  {
   "cell_type": "code",
   "execution_count": 92,
   "id": "991e591f-0484-483e-918d-29d2c52c89cd",
   "metadata": {},
   "outputs": [
    {
     "data": {
      "text/plain": [
       "tensor([[1., 1., 1.],\n",
       "        [1., 1., 1.]])"
      ]
     },
     "execution_count": 92,
     "metadata": {},
     "output_type": "execute_result"
    }
   ],
   "source": [
    "y = torch.ones((2, 3))\n",
    "y"
   ]
  },
  {
   "cell_type": "markdown",
   "id": "9631b19d-0d8b-46b6-bf19-2a4fa48b2397",
   "metadata": {},
   "source": [
    "通过 `tensor` 创建张量，参数为嵌套列表"
   ]
  },
  {
   "cell_type": "code",
   "execution_count": 93,
   "id": "6e293ea2-ad75-4659-a7c1-54a5639dd96f",
   "metadata": {},
   "outputs": [
    {
     "data": {
      "text/plain": [
       "tensor([[3, 3],\n",
       "        [2, 3],\n",
       "        [2, 3]])"
      ]
     },
     "execution_count": 93,
     "metadata": {},
     "output_type": "execute_result"
    }
   ],
   "source": [
    "two = torch.tensor([[3, 3], [2, 3], [2, 3]])\n",
    "two"
   ]
  },
  {
   "cell_type": "markdown",
   "id": "b2eae8b9-9669-4f53-8462-329cab998573",
   "metadata": {},
   "source": [
    "张量之间的加减乘除运算都是对应元素的运算，维度相同的张量才能进行运算，维度相同且形状相同则直接运算"
   ]
  },
  {
   "cell_type": "code",
   "execution_count": 94,
   "id": "5f6009e0-8b09-4809-b70a-7a1082b8456b",
   "metadata": {},
   "outputs": [
    {
     "data": {
      "text/plain": [
       "tensor([[0, 1],\n",
       "        [2, 3],\n",
       "        [4, 5]])"
      ]
     },
     "execution_count": 94,
     "metadata": {},
     "output_type": "execute_result"
    }
   ],
   "source": [
    "y = torch.arange(6)\n",
    "y = y.reshape(3, 2)\n",
    "y"
   ]
  },
  {
   "cell_type": "code",
   "execution_count": 95,
   "id": "156ef04c-2967-407c-9dbb-631404749737",
   "metadata": {},
   "outputs": [
    {
     "data": {
      "text/plain": [
       "tensor([[3, 4],\n",
       "        [4, 6],\n",
       "        [6, 8]])"
      ]
     },
     "execution_count": 95,
     "metadata": {},
     "output_type": "execute_result"
    }
   ],
   "source": [
    "y + two"
   ]
  },
  {
   "cell_type": "markdown",
   "id": "3f67f285-1a21-4177-96fd-eefaf30fb024",
   "metadata": {},
   "source": [
    "维度相同但形状不同时会使用广播机制进行运算，广播机制就是张量维度加一，使得两个张量能正常运算，比如三行一列的张量向右复制变为三行两列，一行三列的向量向下复制变为三行一列\n",
    "\n",
    "而这种机制可能会导致由于我们的代码出错而得不到想要的结果"
   ]
  },
  {
   "cell_type": "code",
   "execution_count": 106,
   "id": "8c50e18a-0736-43dd-8dbb-4c09cdc6ef27",
   "metadata": {},
   "outputs": [
    {
     "data": {
      "text/plain": [
       "tensor([[0, 1, 2],\n",
       "        [1, 2, 3],\n",
       "        [2, 3, 4]])"
      ]
     },
     "execution_count": 106,
     "metadata": {},
     "output_type": "execute_result"
    }
   ],
   "source": [
    "x = torch.arange(3).reshape((3, 1))\n",
    "y = torch.arange(3).reshape((1, 3))\n",
    "x + y"
   ]
  },
  {
   "cell_type": "markdown",
   "id": "c20c601b-0965-4d56-a533-3baf0601d232",
   "metadata": {},
   "source": [
    "张量本身也可以进行运算，即调用函数对每个元素进行运算，下面是 $e^y$ 的运算"
   ]
  },
  {
   "cell_type": "code",
   "execution_count": 96,
   "id": "cd8930b4-8dd6-46a0-821c-5122d8cb86e8",
   "metadata": {},
   "outputs": [
    {
     "data": {
      "text/plain": [
       "tensor([[  1.0000,   2.7183],\n",
       "        [  7.3891,  20.0855],\n",
       "        [ 54.5981, 148.4132]])"
      ]
     },
     "execution_count": 96,
     "metadata": {},
     "output_type": "execute_result"
    }
   ],
   "source": [
    "torch.exp(y)"
   ]
  },
  {
   "cell_type": "markdown",
   "id": "610d56c3-436e-4183-9f10-3d7cfb7c174c",
   "metadata": {},
   "source": [
    "张量可以连接到一起，`dim = 0` 是指行合并，即从上到下合并，`dim = 1` 是指列合并，即合并到右边\n",
    "张量使用`cat()`函数进行合并"
   ]
  },
  {
   "cell_type": "code",
   "execution_count": 109,
   "id": "0cc5f5f3-1a72-447f-aa68-783ee8b3e7b5",
   "metadata": {},
   "outputs": [],
   "source": [
    "x = torch.arange(12, dtype = torch.float32).reshape((3, 4))\n",
    "y = torch.arange(12, dtype = torch.float32).reshape((3, 4))"
   ]
  },
  {
   "cell_type": "code",
   "execution_count": 110,
   "id": "32e507df-32d1-455f-8770-fcd932c7a695",
   "metadata": {},
   "outputs": [
    {
     "data": {
      "text/plain": [
       "tensor([[ 0.,  1.,  2.,  3.,  0.,  1.,  2.,  3.],\n",
       "        [ 4.,  5.,  6.,  7.,  4.,  5.,  6.,  7.],\n",
       "        [ 8.,  9., 10., 11.,  8.,  9., 10., 11.]])"
      ]
     },
     "execution_count": 110,
     "metadata": {},
     "output_type": "execute_result"
    }
   ],
   "source": [
    "torch.cat((x, y), dim = 1)"
   ]
  },
  {
   "cell_type": "markdown",
   "id": "2a6e024d-f255-4315-935e-284c817bea5c",
   "metadata": {},
   "source": [
    "张量还可以使用逻辑运算符"
   ]
  },
  {
   "cell_type": "code",
   "execution_count": 111,
   "id": "b4a6a774-17ab-4ca2-b6f3-682700876596",
   "metadata": {},
   "outputs": [
    {
     "data": {
      "text/plain": [
       "tensor([[True, True, True, True],\n",
       "        [True, True, True, True],\n",
       "        [True, True, True, True]])"
      ]
     },
     "execution_count": 111,
     "metadata": {},
     "output_type": "execute_result"
    }
   ],
   "source": [
    "x == y"
   ]
  },
  {
   "cell_type": "markdown",
   "id": "0588bc1a-997e-4af1-bf4e-f6878b1f6513",
   "metadata": {},
   "source": [
    "使用 `sum()` 对所有张量的元素进行求和"
   ]
  },
  {
   "cell_type": "code",
   "execution_count": 112,
   "id": "3a08bae5-992f-4028-923a-d3c0b243de60",
   "metadata": {},
   "outputs": [
    {
     "data": {
      "text/plain": [
       "tensor(66.)"
      ]
     },
     "execution_count": 112,
     "metadata": {},
     "output_type": "execute_result"
    }
   ],
   "source": [
    "x.sum()"
   ]
  },
  {
   "cell_type": "markdown",
   "id": "94c030d2-f70e-4718-8611-7e46725cd137",
   "metadata": {},
   "source": [
    "元素的访问示例"
   ]
  },
  {
   "cell_type": "code",
   "execution_count": 116,
   "id": "fc87f77e-afa0-4e15-82d7-7c6744c7dc72",
   "metadata": {},
   "outputs": [
    {
     "data": {
      "text/plain": [
       "tensor([[ 0,  1,  2,  3],\n",
       "        [ 4,  5,  6,  7],\n",
       "        [ 8,  9, 10, 11]])"
      ]
     },
     "execution_count": 116,
     "metadata": {},
     "output_type": "execute_result"
    }
   ],
   "source": [
    "x = torch.arange(12).reshape(3, 4)\n",
    "x"
   ]
  },
  {
   "cell_type": "code",
   "execution_count": 122,
   "id": "16f2bfde-c02d-4db6-b956-f156b057b587",
   "metadata": {},
   "outputs": [
    {
     "data": {
      "text/plain": [
       "(tensor([ 8,  9, 10, 11]),\n",
       " tensor([[ 4,  5,  6,  7],\n",
       "         [ 8,  9, 10, 11]]))"
      ]
     },
     "execution_count": 122,
     "metadata": {},
     "output_type": "execute_result"
    }
   ],
   "source": [
    "x[-1], x[1:3]"
   ]
  },
  {
   "cell_type": "code",
   "execution_count": 126,
   "id": "08ad6163-6145-445a-a13a-9b023dd81113",
   "metadata": {},
   "outputs": [
    {
     "data": {
      "text/plain": [
       "tensor([[ 0,  1,  2,  3],\n",
       "        [ 4,  5,  9,  7],\n",
       "        [ 8,  9, 10, 11]])"
      ]
     },
     "execution_count": 126,
     "metadata": {},
     "output_type": "execute_result"
    }
   ],
   "source": [
    "x[1,2] = 9 #数字是下标\n",
    "x"
   ]
  },
  {
   "cell_type": "code",
   "execution_count": 135,
   "id": "0f1e38f8-1588-44e3-99ba-e8bdc8133925",
   "metadata": {},
   "outputs": [
    {
     "data": {
      "text/plain": [
       "tensor([[ 0,  1,  2,  3],\n",
       "        [21, 21, 21, 23],\n",
       "        [ 8,  9, 10, 11]])"
      ]
     },
     "execution_count": 135,
     "metadata": {},
     "output_type": "execute_result"
    }
   ],
   "source": [
    "x[1, :3] = 21\n",
    "x"
   ]
  },
  {
   "cell_type": "markdown",
   "id": "95fcb87e-f1a3-4f7f-82e5-82286fe817b5",
   "metadata": {},
   "source": [
    "如果后续计算没有使用到相同元素，使用`x[:] = x + y`或`x += y`减少内存开销"
   ]
  },
  {
   "cell_type": "code",
   "execution_count": 137,
   "id": "ef7d82f5-8c2d-4e10-b65a-3b8c36414a84",
   "metadata": {},
   "outputs": [
    {
     "data": {
      "text/plain": [
       "True"
      ]
     },
     "execution_count": 137,
     "metadata": {},
     "output_type": "execute_result"
    }
   ],
   "source": [
    "before = id(x)\n",
    "x[:] = x + y\n",
    "id(x) == before"
   ]
  },
  {
   "cell_type": "markdown",
   "id": "a3225e5f-5200-4bae-94d1-8319d8771f8b",
   "metadata": {},
   "source": [
    "转化为 Numpy 张量"
   ]
  },
  {
   "cell_type": "code",
   "execution_count": 141,
   "id": "a5f69b43-f092-458c-ba59-e1b7e47aba5b",
   "metadata": {},
   "outputs": [
    {
     "data": {
      "text/plain": [
       "(numpy.ndarray, torch.Tensor)"
      ]
     },
     "execution_count": 141,
     "metadata": {},
     "output_type": "execute_result"
    }
   ],
   "source": [
    "a = x.numpy()\n",
    "b = torch.tensor(a)\n",
    "type(a), type(b)"
   ]
  },
  {
   "cell_type": "markdown",
   "id": "79bece7f-f4ca-4451-9d38-1430d3d4bb35",
   "metadata": {},
   "source": [
    "将大小为1的张量转化为 Python 标量"
   ]
  },
  {
   "cell_type": "code",
   "execution_count": 143,
   "id": "32addc17-e773-4d76-be8e-a5fab9d749d2",
   "metadata": {},
   "outputs": [
    {
     "data": {
      "text/plain": [
       "(tensor([3.5000]), 3.5, 3.5, 3)"
      ]
     },
     "execution_count": 143,
     "metadata": {},
     "output_type": "execute_result"
    }
   ],
   "source": [
    "a = torch.tensor([3.5])\n",
    "a, a.item(), float(a), int(a)"
   ]
  },
  {
   "cell_type": "markdown",
   "id": "d8e78b11-7be7-434d-b7b3-59d5da5ac0a2",
   "metadata": {},
   "source": [
    "## 数据预处理"
   ]
  },
  {
   "cell_type": "markdown",
   "id": "6630b50d-0ae0-4c26-844f-9e3fc8a7681b",
   "metadata": {},
   "source": [
    "创建人工数据集"
   ]
  },
  {
   "cell_type": "code",
   "execution_count": 144,
   "id": "5605c63c-0a68-4e78-9f50-dae3a567edf4",
   "metadata": {},
   "outputs": [],
   "source": [
    "import os"
   ]
  },
  {
   "cell_type": "code",
   "execution_count": 182,
   "id": "723605f1-b0a0-454c-97f5-4a05a5867367",
   "metadata": {},
   "outputs": [],
   "source": [
    "os.makedirs(os.path.join('.', 'data'), exist_ok = True)\n",
    "data_file = os.path.join('.', 'data', 'house.csv')\n",
    "with open(data_file, 'w') as f:\n",
    "    f.write('num,isSold,price\\n')\n",
    "    f.write('1,pave,10086\\n')\n",
    "    f.write('2,NA,1000\\n')\n",
    "    f.write('NA,NA,NA\\n')"
   ]
  },
  {
   "cell_type": "markdown",
   "id": "d0588e7a-ec52-4606-869e-4c13f6c36312",
   "metadata": {},
   "source": [
    "使用 pandas 库在创建的数据集中读取文件"
   ]
  },
  {
   "cell_type": "code",
   "execution_count": 152,
   "id": "9e0c36b2-e6fd-4b52-96ee-696aaf8dce6a",
   "metadata": {},
   "outputs": [],
   "source": [
    "import pandas as pd"
   ]
  },
  {
   "cell_type": "code",
   "execution_count": 183,
   "id": "438a4891-b93f-42f9-8528-56fa8fc39240",
   "metadata": {},
   "outputs": [
    {
     "data": {
      "text/html": [
       "<div>\n",
       "<style scoped>\n",
       "    .dataframe tbody tr th:only-of-type {\n",
       "        vertical-align: middle;\n",
       "    }\n",
       "\n",
       "    .dataframe tbody tr th {\n",
       "        vertical-align: top;\n",
       "    }\n",
       "\n",
       "    .dataframe thead th {\n",
       "        text-align: right;\n",
       "    }\n",
       "</style>\n",
       "<table border=\"1\" class=\"dataframe\">\n",
       "  <thead>\n",
       "    <tr style=\"text-align: right;\">\n",
       "      <th></th>\n",
       "      <th>num</th>\n",
       "      <th>isSold</th>\n",
       "      <th>price</th>\n",
       "    </tr>\n",
       "  </thead>\n",
       "  <tbody>\n",
       "    <tr>\n",
       "      <th>0</th>\n",
       "      <td>1.0</td>\n",
       "      <td>pave</td>\n",
       "      <td>10086.0</td>\n",
       "    </tr>\n",
       "    <tr>\n",
       "      <th>1</th>\n",
       "      <td>2.0</td>\n",
       "      <td>NaN</td>\n",
       "      <td>1000.0</td>\n",
       "    </tr>\n",
       "    <tr>\n",
       "      <th>2</th>\n",
       "      <td>NaN</td>\n",
       "      <td>NaN</td>\n",
       "      <td>NaN</td>\n",
       "    </tr>\n",
       "  </tbody>\n",
       "</table>\n",
       "</div>"
      ],
      "text/plain": [
       "   num isSold    price\n",
       "0  1.0   pave  10086.0\n",
       "1  2.0    NaN   1000.0\n",
       "2  NaN    NaN      NaN"
      ]
     },
     "execution_count": 183,
     "metadata": {},
     "output_type": "execute_result"
    }
   ],
   "source": [
    "data = pd.read_csv(data_file)\n",
    "data"
   ]
  },
  {
   "cell_type": "markdown",
   "id": "57d9fd50-24c7-46da-a162-b819c3f5bc0e",
   "metadata": {},
   "source": [
    "机器学习或者数据科学的重要意义在于处理缺失的数据，机器学习预测未来数据，即处理未来缺失的数据。\n",
    "\n",
    "处理缺失数据的方式包括插值和删除，这里考虑插值"
   ]
  },
  {
   "cell_type": "code",
   "execution_count": 184,
   "id": "72941512-5e63-4ad5-80dd-4a8196439a5f",
   "metadata": {},
   "outputs": [
    {
     "data": {
      "text/html": [
       "<div>\n",
       "<style scoped>\n",
       "    .dataframe tbody tr th:only-of-type {\n",
       "        vertical-align: middle;\n",
       "    }\n",
       "\n",
       "    .dataframe tbody tr th {\n",
       "        vertical-align: top;\n",
       "    }\n",
       "\n",
       "    .dataframe thead th {\n",
       "        text-align: right;\n",
       "    }\n",
       "</style>\n",
       "<table border=\"1\" class=\"dataframe\">\n",
       "  <thead>\n",
       "    <tr style=\"text-align: right;\">\n",
       "      <th></th>\n",
       "      <th>num</th>\n",
       "      <th>isSold</th>\n",
       "    </tr>\n",
       "  </thead>\n",
       "  <tbody>\n",
       "    <tr>\n",
       "      <th>0</th>\n",
       "      <td>1.0</td>\n",
       "      <td>pave</td>\n",
       "    </tr>\n",
       "    <tr>\n",
       "      <th>1</th>\n",
       "      <td>2.0</td>\n",
       "      <td>NaN</td>\n",
       "    </tr>\n",
       "    <tr>\n",
       "      <th>2</th>\n",
       "      <td>NaN</td>\n",
       "      <td>NaN</td>\n",
       "    </tr>\n",
       "  </tbody>\n",
       "</table>\n",
       "</div>"
      ],
      "text/plain": [
       "   num isSold\n",
       "0  1.0   pave\n",
       "1  2.0    NaN\n",
       "2  NaN    NaN"
      ]
     },
     "execution_count": 184,
     "metadata": {},
     "output_type": "execute_result"
    }
   ],
   "source": [
    "inputs = data.iloc[:, 0:2] # iloc与访问张量元素的意义差不多\n",
    "outputs = data.iloc[:, 2]\n",
    "inputs"
   ]
  },
  {
   "cell_type": "code",
   "execution_count": 205,
   "id": "65b5f1d5-f3a6-44de-83ca-6fb3662c98d5",
   "metadata": {},
   "outputs": [
    {
     "data": {
      "text/html": [
       "<div>\n",
       "<style scoped>\n",
       "    .dataframe tbody tr th:only-of-type {\n",
       "        vertical-align: middle;\n",
       "    }\n",
       "\n",
       "    .dataframe tbody tr th {\n",
       "        vertical-align: top;\n",
       "    }\n",
       "\n",
       "    .dataframe thead th {\n",
       "        text-align: right;\n",
       "    }\n",
       "</style>\n",
       "<table border=\"1\" class=\"dataframe\">\n",
       "  <thead>\n",
       "    <tr style=\"text-align: right;\">\n",
       "      <th></th>\n",
       "      <th>num</th>\n",
       "      <th>isSold_pave</th>\n",
       "      <th>isSold_nan</th>\n",
       "    </tr>\n",
       "  </thead>\n",
       "  <tbody>\n",
       "    <tr>\n",
       "      <th>0</th>\n",
       "      <td>1.0</td>\n",
       "      <td>1</td>\n",
       "      <td>0</td>\n",
       "    </tr>\n",
       "    <tr>\n",
       "      <th>1</th>\n",
       "      <td>2.0</td>\n",
       "      <td>0</td>\n",
       "      <td>1</td>\n",
       "    </tr>\n",
       "    <tr>\n",
       "      <th>2</th>\n",
       "      <td>1.5</td>\n",
       "      <td>0</td>\n",
       "      <td>1</td>\n",
       "    </tr>\n",
       "  </tbody>\n",
       "</table>\n",
       "</div>"
      ],
      "text/plain": [
       "   num  isSold_pave  isSold_nan\n",
       "0  1.0            1           0\n",
       "1  2.0            0           1\n",
       "2  1.5            0           1"
      ]
     },
     "execution_count": 205,
     "metadata": {},
     "output_type": "execute_result"
    }
   ],
   "source": [
    "inputs = inputs.fillna(inputs.mean(numeric_only = True)) # mean指inputs的平均值\n",
    "inputs"
   ]
  },
  {
   "cell_type": "markdown",
   "id": "b788a011-e8fc-4208-ae0f-d41345196588",
   "metadata": {},
   "source": [
    "对于`inputs`中的非数字类型，将 “Nah” 视为一个类别，使用 `pandas.getdummies` 将离散值变为 onehot 编码形式\n",
    "> onehot 编码就是有几种状态就有几比特的编码，比如售出和未售出就是0，1编码"
   ]
  },
  {
   "cell_type": "code",
   "execution_count": 206,
   "id": "11e77460-3afd-4215-b3cf-da771a464ff8",
   "metadata": {},
   "outputs": [
    {
     "data": {
      "text/html": [
       "<div>\n",
       "<style scoped>\n",
       "    .dataframe tbody tr th:only-of-type {\n",
       "        vertical-align: middle;\n",
       "    }\n",
       "\n",
       "    .dataframe tbody tr th {\n",
       "        vertical-align: top;\n",
       "    }\n",
       "\n",
       "    .dataframe thead th {\n",
       "        text-align: right;\n",
       "    }\n",
       "</style>\n",
       "<table border=\"1\" class=\"dataframe\">\n",
       "  <thead>\n",
       "    <tr style=\"text-align: right;\">\n",
       "      <th></th>\n",
       "      <th>num</th>\n",
       "      <th>isSold_pave</th>\n",
       "      <th>isSold_nan</th>\n",
       "    </tr>\n",
       "  </thead>\n",
       "  <tbody>\n",
       "    <tr>\n",
       "      <th>0</th>\n",
       "      <td>1.0</td>\n",
       "      <td>1</td>\n",
       "      <td>0</td>\n",
       "    </tr>\n",
       "    <tr>\n",
       "      <th>1</th>\n",
       "      <td>2.0</td>\n",
       "      <td>0</td>\n",
       "      <td>1</td>\n",
       "    </tr>\n",
       "    <tr>\n",
       "      <th>2</th>\n",
       "      <td>1.5</td>\n",
       "      <td>0</td>\n",
       "      <td>1</td>\n",
       "    </tr>\n",
       "  </tbody>\n",
       "</table>\n",
       "</div>"
      ],
      "text/plain": [
       "   num  isSold_pave  isSold_nan\n",
       "0  1.0            1           0\n",
       "1  2.0            0           1\n",
       "2  1.5            0           1"
      ]
     },
     "execution_count": 206,
     "metadata": {},
     "output_type": "execute_result"
    }
   ],
   "source": [
    "inputs = pd.get_dummies(inputs, dummy_na = True) # dummy_na 多加一个 NA 类型\n",
    "inputs *= 1\n",
    "inputs"
   ]
  },
  {
   "cell_type": "markdown",
   "id": "42f16d57-2ce6-4de6-a2fb-e82215861798",
   "metadata": {},
   "source": [
    "现在将`inputs`和`outputs`转化为张量形式"
   ]
  },
  {
   "cell_type": "code",
   "execution_count": 210,
   "id": "4d097344-2c2f-4f25-97b5-1e948c5035ff",
   "metadata": {},
   "outputs": [
    {
     "data": {
      "text/plain": [
       "(tensor([[1.0000, 1.0000, 0.0000],\n",
       "         [2.0000, 0.0000, 1.0000],\n",
       "         [1.5000, 0.0000, 1.0000]], dtype=torch.float64),\n",
       " tensor([10086.,  1000.,    nan], dtype=torch.float64))"
      ]
     },
     "execution_count": 210,
     "metadata": {},
     "output_type": "execute_result"
    }
   ],
   "source": [
    "x = torch.tensor(inputs.values)\n",
    "y = torch.tensor(outputs.values)\n",
    "x, y"
   ]
  },
  {
   "cell_type": "code",
   "execution_count": null,
   "id": "204f2187-b92f-43f6-a265-8c074029806c",
   "metadata": {},
   "outputs": [],
   "source": []
  }
 ],
 "metadata": {
  "kernelspec": {
   "display_name": "Python 3 (ipykernel)",
   "language": "python",
   "name": "python3"
  },
  "language_info": {
   "codemirror_mode": {
    "name": "ipython",
    "version": 3
   },
   "file_extension": ".py",
   "mimetype": "text/x-python",
   "name": "python",
   "nbconvert_exporter": "python",
   "pygments_lexer": "ipython3",
   "version": "3.10.14"
  }
 },
 "nbformat": 4,
 "nbformat_minor": 5
}
