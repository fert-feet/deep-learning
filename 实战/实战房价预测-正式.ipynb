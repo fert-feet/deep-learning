{
 "cells": [
  {
   "cell_type": "code",
   "execution_count": 1,
   "id": "e6fe7633-7212-4acc-9e5c-4c3a4efbf277",
   "metadata": {},
   "outputs": [],
   "source": [
    "%matplotlib inline\n",
    "import numpy as np\n",
    "import pandas as pd\n",
    "import math\n",
    "import torch\n",
    "from torch import nn\n",
    "from d2l import torch as d2l"
   ]
  },
  {
   "cell_type": "code",
   "execution_count": 21,
   "id": "47123d56-0b4b-4456-b63a-088aaa37fd8e",
   "metadata": {},
   "outputs": [],
   "source": [
    "origin_train_data = pd.read_csv('./data/house/kaggle_house_real_train.csv')[:10000]\n",
    "origin_test_data = pd.read_csv('./data/house/kaggle_house_real_test.csv')[:10000]"
   ]
  },
  {
   "cell_type": "code",
   "execution_count": 22,
   "id": "e422c7a0-c83d-4123-80cf-d36bdfffc3a2",
   "metadata": {},
   "outputs": [
    {
     "data": {
      "text/plain": [
       "((10000, 41), (10000, 40))"
      ]
     },
     "execution_count": 22,
     "metadata": {},
     "output_type": "execute_result"
    }
   ],
   "source": [
    "origin_train_data.shape, origin_test_data.shape"
   ]
  },
  {
   "cell_type": "markdown",
   "id": "f1504250-b57c-4312-93ac-194c4b65da86",
   "metadata": {},
   "source": [
    "### 清洗数据"
   ]
  },
  {
   "cell_type": "markdown",
   "id": "889b077c-58a2-4256-a5ad-b01b66446fee",
   "metadata": {},
   "source": [
    "去除一些干扰列，并合并数据集以便进一步清洗"
   ]
  },
  {
   "cell_type": "code",
   "execution_count": 23,
   "id": "e4f7b550-c708-4929-a851-147915a6d007",
   "metadata": {},
   "outputs": [
    {
     "data": {
      "text/plain": [
       "(20000, 38)"
      ]
     },
     "execution_count": 23,
     "metadata": {},
     "output_type": "execute_result"
    }
   ],
   "source": [
    "cleaned_train_data = origin_train_data.drop([\"Id\", \"Sold Price\", \"State\"], axis=1)\n",
    "cleaned_test_data = origin_test_data.drop([\"Id\", \"State\"], axis=1)\n",
    "\n",
    "all_features = pd.concat((cleaned_train_data, cleaned_test_data))\n",
    "all_features.shape"
   ]
  },
  {
   "cell_type": "markdown",
   "id": "17549431-09a5-4032-a47b-1fe87650d933",
   "metadata": {},
   "source": [
    "单位化数据"
   ]
  },
  {
   "cell_type": "code",
   "execution_count": 5,
   "id": "a501e81e-b0d3-4f29-ba31-3b239f9c6f5f",
   "metadata": {},
   "outputs": [],
   "source": [
    "def numeric_features_unitization(data):\n",
    "    numeric_features = data.select_dtypes(include=np.number).columns\n",
    "    \"\"\" 以下式子等价于 data[numeric_features] = (data[numeric_features] - data[numeric_features].mean()) / data[numeric_features].std()\"\"\"\n",
    "    data[numeric_features] = data[numeric_features].apply(lambda x : (x - x.mean()) / x.std())\n",
    "    data[numeric_features] = data[numeric_features].fillna(0)\n",
    "    return data"
   ]
  },
  {
   "cell_type": "markdown",
   "id": "705d739f-50e9-4b59-8110-d24f14721cb3",
   "metadata": {},
   "source": [
    "`one-hot`处理"
   ]
  },
  {
   "cell_type": "code",
   "execution_count": 12,
   "id": "59713e6e-423d-4d8d-b3f8-a5010836c682",
   "metadata": {},
   "outputs": [],
   "source": [
    "def nonnumeric_features_dummies(data):\n",
    "    return pd.get_dummies(data, dummy_na=True)"
   ]
  },
  {
   "cell_type": "code",
   "execution_count": 24,
   "id": "ba4cf3c4-c152-4783-9f4c-80d0e7582b16",
   "metadata": {},
   "outputs": [],
   "source": [
    "all_features = numeric_features_unitization(all_features)\n",
    "all_features = nonnumeric_features_dummies(all_features)"
   ]
  },
  {
   "cell_type": "code",
   "execution_count": 27,
   "id": "f4119e4d-c1c6-4e05-9cc3-3f27dfc84812",
   "metadata": {},
   "outputs": [],
   "source": [
    "def transform_numpy_to_torch(combination_data):\n",
    "    num_sample_train = origin_train_data.shape[0]\n",
    "    train_features = torch.tensor(combination_data[:num_sample_train].values.astype(float), dtype=torch.float32)\n",
    "    test_features = torch.tensor(combination_data[num_sample_train:].values.astype(float), dtype=torch.float32)\n",
    "    train_labels = torch.tensor(origin_train_data[\"Sold Price\"].values.astype(float).reshape(-1, 1), dtype=torch.float32)\n",
    "    return train_features, test_features, train_labels"
   ]
  },
  {
   "cell_type": "code",
   "execution_count": 28,
   "id": "e4bc82cb-92c1-4501-9f74-4fa85e2929b6",
   "metadata": {},
   "outputs": [
    {
     "ename": "MemoryError",
     "evalue": "Unable to allocate 4.90 GiB for an array with shape (65803, 10000) and data type object",
     "output_type": "error",
     "traceback": [
      "\u001b[1;31m---------------------------------------------------------------------------\u001b[0m",
      "\u001b[1;31mMemoryError\u001b[0m                               Traceback (most recent call last)",
      "Cell \u001b[1;32mIn[28], line 1\u001b[0m\n\u001b[1;32m----> 1\u001b[0m train_features, test_features, train_labels \u001b[38;5;241m=\u001b[39m \u001b[43mtransform_numpy_to_torch\u001b[49m\u001b[43m(\u001b[49m\u001b[43mall_features\u001b[49m\u001b[43m)\u001b[49m\n",
      "Cell \u001b[1;32mIn[27], line 3\u001b[0m, in \u001b[0;36mtransform_numpy_to_torch\u001b[1;34m(combination_data)\u001b[0m\n\u001b[0;32m      1\u001b[0m \u001b[38;5;28;01mdef\u001b[39;00m \u001b[38;5;21mtransform_numpy_to_torch\u001b[39m(combination_data):\n\u001b[0;32m      2\u001b[0m     num_sample_train \u001b[38;5;241m=\u001b[39m origin_train_data\u001b[38;5;241m.\u001b[39mshape[\u001b[38;5;241m0\u001b[39m]\n\u001b[1;32m----> 3\u001b[0m     train_features \u001b[38;5;241m=\u001b[39m torch\u001b[38;5;241m.\u001b[39mtensor(\u001b[43mcombination_data\u001b[49m\u001b[43m[\u001b[49m\u001b[43m:\u001b[49m\u001b[43mnum_sample_train\u001b[49m\u001b[43m]\u001b[49m\u001b[38;5;241;43m.\u001b[39;49m\u001b[43mvalues\u001b[49m\u001b[38;5;241m.\u001b[39mastype(\u001b[38;5;28mfloat\u001b[39m), dtype\u001b[38;5;241m=\u001b[39mtorch\u001b[38;5;241m.\u001b[39mfloat32)\n\u001b[0;32m      4\u001b[0m     test_features \u001b[38;5;241m=\u001b[39m torch\u001b[38;5;241m.\u001b[39mtensor(combination_data[num_sample_train:]\u001b[38;5;241m.\u001b[39mvalues\u001b[38;5;241m.\u001b[39mastype(\u001b[38;5;28mfloat\u001b[39m), dtype\u001b[38;5;241m=\u001b[39mtorch\u001b[38;5;241m.\u001b[39mfloat32)\n\u001b[0;32m      5\u001b[0m     train_labels \u001b[38;5;241m=\u001b[39m torch\u001b[38;5;241m.\u001b[39mtensor(origin_train_data[\u001b[38;5;124m\"\u001b[39m\u001b[38;5;124mSold Price\u001b[39m\u001b[38;5;124m\"\u001b[39m]\u001b[38;5;241m.\u001b[39mvalues\u001b[38;5;241m.\u001b[39mastype(\u001b[38;5;28mfloat\u001b[39m)\u001b[38;5;241m.\u001b[39mreshape(\u001b[38;5;241m-\u001b[39m\u001b[38;5;241m1\u001b[39m, \u001b[38;5;241m1\u001b[39m), dtype\u001b[38;5;241m=\u001b[39mtorch\u001b[38;5;241m.\u001b[39mfloat32)\n",
      "File \u001b[1;32mD:\\Application\\WorkApplication\\miniconda\\envs\\pytorch\\lib\\site-packages\\pandas\\core\\frame.py:11360\u001b[0m, in \u001b[0;36mDataFrame.values\u001b[1;34m(self)\u001b[0m\n\u001b[0;32m  11286\u001b[0m \u001b[38;5;129m@property\u001b[39m\n\u001b[0;32m  11287\u001b[0m \u001b[38;5;28;01mdef\u001b[39;00m \u001b[38;5;21mvalues\u001b[39m(\u001b[38;5;28mself\u001b[39m) \u001b[38;5;241m-\u001b[39m\u001b[38;5;241m>\u001b[39m np\u001b[38;5;241m.\u001b[39mndarray:\n\u001b[0;32m  11288\u001b[0m \u001b[38;5;250m    \u001b[39m\u001b[38;5;124;03m\"\"\"\u001b[39;00m\n\u001b[0;32m  11289\u001b[0m \u001b[38;5;124;03m    Return a Numpy representation of the DataFrame.\u001b[39;00m\n\u001b[0;32m  11290\u001b[0m \n\u001b[1;32m   (...)\u001b[0m\n\u001b[0;32m  11358\u001b[0m \u001b[38;5;124;03m           ['monkey', nan, None]], dtype=object)\u001b[39;00m\n\u001b[0;32m  11359\u001b[0m \u001b[38;5;124;03m    \"\"\"\u001b[39;00m\n\u001b[1;32m> 11360\u001b[0m     \u001b[38;5;28;01mreturn\u001b[39;00m \u001b[38;5;28;43mself\u001b[39;49m\u001b[38;5;241;43m.\u001b[39;49m\u001b[43m_mgr\u001b[49m\u001b[38;5;241;43m.\u001b[39;49m\u001b[43mas_array\u001b[49m\u001b[43m(\u001b[49m\u001b[43m)\u001b[49m\n",
      "File \u001b[1;32mD:\\Application\\WorkApplication\\miniconda\\envs\\pytorch\\lib\\site-packages\\pandas\\core\\internals\\managers.py:1732\u001b[0m, in \u001b[0;36mBlockManager.as_array\u001b[1;34m(self, dtype, copy, na_value)\u001b[0m\n\u001b[0;32m   1730\u001b[0m         arr\u001b[38;5;241m.\u001b[39mflags\u001b[38;5;241m.\u001b[39mwriteable \u001b[38;5;241m=\u001b[39m \u001b[38;5;28;01mFalse\u001b[39;00m\n\u001b[0;32m   1731\u001b[0m \u001b[38;5;28;01melse\u001b[39;00m:\n\u001b[1;32m-> 1732\u001b[0m     arr \u001b[38;5;241m=\u001b[39m \u001b[38;5;28;43mself\u001b[39;49m\u001b[38;5;241;43m.\u001b[39;49m\u001b[43m_interleave\u001b[49m\u001b[43m(\u001b[49m\u001b[43mdtype\u001b[49m\u001b[38;5;241;43m=\u001b[39;49m\u001b[43mdtype\u001b[49m\u001b[43m,\u001b[49m\u001b[43m \u001b[49m\u001b[43mna_value\u001b[49m\u001b[38;5;241;43m=\u001b[39;49m\u001b[43mna_value\u001b[49m\u001b[43m)\u001b[49m\n\u001b[0;32m   1733\u001b[0m     \u001b[38;5;66;03m# The underlying data was copied within _interleave, so no need\u001b[39;00m\n\u001b[0;32m   1734\u001b[0m     \u001b[38;5;66;03m# to further copy if copy=True or setting na_value\u001b[39;00m\n\u001b[0;32m   1736\u001b[0m \u001b[38;5;28;01mif\u001b[39;00m na_value \u001b[38;5;129;01mis\u001b[39;00m \u001b[38;5;129;01mnot\u001b[39;00m lib\u001b[38;5;241m.\u001b[39mno_default:\n",
      "File \u001b[1;32mD:\\Application\\WorkApplication\\miniconda\\envs\\pytorch\\lib\\site-packages\\pandas\\core\\internals\\managers.py:1768\u001b[0m, in \u001b[0;36mBlockManager._interleave\u001b[1;34m(self, dtype, na_value)\u001b[0m\n\u001b[0;32m   1765\u001b[0m \u001b[38;5;28;01melif\u001b[39;00m is_dtype_equal(dtype, \u001b[38;5;28mstr\u001b[39m):\n\u001b[0;32m   1766\u001b[0m     dtype \u001b[38;5;241m=\u001b[39m np\u001b[38;5;241m.\u001b[39mdtype(\u001b[38;5;124m\"\u001b[39m\u001b[38;5;124mobject\u001b[39m\u001b[38;5;124m\"\u001b[39m)\n\u001b[1;32m-> 1768\u001b[0m result \u001b[38;5;241m=\u001b[39m \u001b[43mnp\u001b[49m\u001b[38;5;241;43m.\u001b[39;49m\u001b[43mempty\u001b[49m\u001b[43m(\u001b[49m\u001b[38;5;28;43mself\u001b[39;49m\u001b[38;5;241;43m.\u001b[39;49m\u001b[43mshape\u001b[49m\u001b[43m,\u001b[49m\u001b[43m \u001b[49m\u001b[43mdtype\u001b[49m\u001b[38;5;241;43m=\u001b[39;49m\u001b[43mdtype\u001b[49m\u001b[43m)\u001b[49m\n\u001b[0;32m   1770\u001b[0m itemmask \u001b[38;5;241m=\u001b[39m np\u001b[38;5;241m.\u001b[39mzeros(\u001b[38;5;28mself\u001b[39m\u001b[38;5;241m.\u001b[39mshape[\u001b[38;5;241m0\u001b[39m])\n\u001b[0;32m   1772\u001b[0m \u001b[38;5;28;01mif\u001b[39;00m dtype \u001b[38;5;241m==\u001b[39m np\u001b[38;5;241m.\u001b[39mdtype(\u001b[38;5;124m\"\u001b[39m\u001b[38;5;124mobject\u001b[39m\u001b[38;5;124m\"\u001b[39m) \u001b[38;5;129;01mand\u001b[39;00m na_value \u001b[38;5;129;01mis\u001b[39;00m lib\u001b[38;5;241m.\u001b[39mno_default:\n\u001b[0;32m   1773\u001b[0m     \u001b[38;5;66;03m# much more performant than using to_numpy below\u001b[39;00m\n",
      "\u001b[1;31mMemoryError\u001b[0m: Unable to allocate 4.90 GiB for an array with shape (65803, 10000) and data type object"
     ]
    }
   ],
   "source": [
    "train_features, test_features, train_labels = transform_numpy_to_torch(all_features)"
   ]
  },
  {
   "cell_type": "code",
   "execution_count": null,
   "id": "3688c7c2-b70d-4b3a-ab18-84305f532980",
   "metadata": {},
   "outputs": [],
   "source": []
  }
 ],
 "metadata": {
  "kernelspec": {
   "display_name": "Python 3 (ipykernel)",
   "language": "python",
   "name": "python3"
  },
  "language_info": {
   "codemirror_mode": {
    "name": "ipython",
    "version": 3
   },
   "file_extension": ".py",
   "mimetype": "text/x-python",
   "name": "python",
   "nbconvert_exporter": "python",
   "pygments_lexer": "ipython3",
   "version": "3.10.14"
  }
 },
 "nbformat": 4,
 "nbformat_minor": 5
}
