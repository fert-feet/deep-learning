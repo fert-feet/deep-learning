{
 "cells": [
  {
   "cell_type": "code",
   "execution_count": 1,
   "id": "74df256d-f6e2-4998-a384-647d3808f082",
   "metadata": {},
   "outputs": [],
   "source": [
    "import torch\n",
    "from torch import nn"
   ]
  },
  {
   "cell_type": "markdown",
   "id": "551dbadf-7f17-412f-87c2-1a083d440cb0",
   "metadata": {},
   "source": [
    "填充"
   ]
  },
  {
   "cell_type": "code",
   "execution_count": 7,
   "id": "cf6b6543-7105-4b85-b06c-107428752c72",
   "metadata": {},
   "outputs": [
    {
     "data": {
      "text/plain": [
       "torch.Size([8, 8])"
      ]
     },
     "execution_count": 7,
     "metadata": {},
     "output_type": "execute_result"
    }
   ],
   "source": [
    "def comp_conv2d(conv2d, X):\n",
    "    X = X.reshape((1, 1) + X.shape)\n",
    "    Y = conv2d(X) # 使用 nn 的 Conv2d 得到的是一个4维的输出\n",
    "    return Y.reshape(Y.shape[2:]) # 拿掉前两维\n",
    "\n",
    "conv2d = nn.Conv2d(1, 1, kernel_size=3, padding=1) # padding 就是填充的维度（上下左右各填充一行/列），这里的 kernel 是 random 出来的\n",
    "X = torch.rand(size=(8, 8))\n",
    "comp_conv2d(conv2d, X).shape"
   ]
  },
  {
   "cell_type": "markdown",
   "id": "d6737b7a-3e82-4d99-9862-19973e1b1ab7",
   "metadata": {},
   "source": [
    "填充不同高度和宽度"
   ]
  },
  {
   "cell_type": "code",
   "execution_count": 12,
   "id": "bf185943-015b-46a5-b088-ba4bb849024e",
   "metadata": {},
   "outputs": [
    {
     "data": {
      "text/plain": [
       "torch.Size([8, 8])"
      ]
     },
     "execution_count": 12,
     "metadata": {},
     "output_type": "execute_result"
    }
   ],
   "source": [
    "conv2d = nn.Conv2d(1, 1, kernel_size=(5, 3), padding=(2, 1)) # padding=(2, 1)是上下各加 2 行，左右各加 2 列 h: 8-5+2*2+1, w:8-3+1*2+1\n",
    "comp_conv2d(conv2d, X).shape"
   ]
  },
  {
   "cell_type": "markdown",
   "id": "8e90120c-835a-49fc-8035-6a03650c9094",
   "metadata": {},
   "source": [
    "将高度和宽度步幅设置为 2 "
   ]
  },
  {
   "cell_type": "code",
   "execution_count": 13,
   "id": "e8aad324-af4d-4906-818b-bf44ed14a544",
   "metadata": {},
   "outputs": [
    {
     "data": {
      "text/plain": [
       "torch.Size([4, 4])"
      ]
     },
     "execution_count": 13,
     "metadata": {},
     "output_type": "execute_result"
    }
   ],
   "source": [
    "conv2d = nn.Conv2d(1, 1, kernel_size=3, padding=1, stride=2)\n",
    "comp_conv2d(conv2d, X).shape"
   ]
  },
  {
   "cell_type": "markdown",
   "id": "7f372ad9-aa48-43c6-baa5-c38f98881fa6",
   "metadata": {},
   "source": [
    "稍微复杂点"
   ]
  },
  {
   "cell_type": "code",
   "execution_count": 14,
   "id": "58479b56-76bf-4201-94bf-7f5aaedab7af",
   "metadata": {},
   "outputs": [
    {
     "data": {
      "text/plain": [
       "torch.Size([2, 2])"
      ]
     },
     "execution_count": 14,
     "metadata": {},
     "output_type": "execute_result"
    }
   ],
   "source": [
    "conv2d = nn.Conv2d(1, 1, kernel_size=(3, 5), padding=(0, 1), stride=(3, 4))\n",
    "comp_conv2d(conv2d, X).shape"
   ]
  },
  {
   "cell_type": "markdown",
   "id": "5e9e4a2a-5ef4-4637-a235-6c8d3a88f01c",
   "metadata": {},
   "source": [
    "总的来说，`padding` 控制填充 `stride` 控制步幅"
   ]
  }
 ],
 "metadata": {
  "kernelspec": {
   "display_name": "Python 3 (ipykernel)",
   "language": "python",
   "name": "python3"
  },
  "language_info": {
   "codemirror_mode": {
    "name": "ipython",
    "version": 3
   },
   "file_extension": ".py",
   "mimetype": "text/x-python",
   "name": "python",
   "nbconvert_exporter": "python",
   "pygments_lexer": "ipython3",
   "version": "3.10.14"
  }
 },
 "nbformat": 4,
 "nbformat_minor": 5
}
