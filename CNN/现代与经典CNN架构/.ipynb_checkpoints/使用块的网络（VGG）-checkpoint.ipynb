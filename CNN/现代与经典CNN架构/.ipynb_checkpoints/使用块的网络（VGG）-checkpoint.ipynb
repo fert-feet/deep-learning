{
 "cells": [
  {
   "cell_type": "code",
   "execution_count": 1,
   "id": "f8b56bea-0ef7-42da-92d7-f2ff471ae4d6",
   "metadata": {},
   "outputs": [],
   "source": [
    "import torch\n",
    "from torch import nn\n",
    "from d2l import torch as d2l"
   ]
  },
  {
   "cell_type": "markdown",
   "id": "137fb761-0de0-4aeb-9c91-4468963bb179",
   "metadata": {},
   "source": [
    "`vgg_block` 函数实现一个 VGG 块"
   ]
  },
  {
   "cell_type": "code",
   "execution_count": 2,
   "id": "7ca2142f-9acf-4267-a3ba-b9426e25c43e",
   "metadata": {},
   "outputs": [],
   "source": [
    "def vgg_block(num_convs, in_channels, out_channels):\n",
    "    layers = []\n",
    "    for _ in range(num_convs):\n",
    "        layers.append(nn.Conv2d(in_channels, out_channels, kernel_size=3, padding=1))\n",
    "        layers.append(nn.ReLU())\n",
    "        in_channels = out_channels\n",
    "    layers.append(nn.MaxPool2d(kernel_size=2, stride=2))\n",
    "    return nn.Sequential(*layers)"
   ]
  },
  {
   "cell_type": "markdown",
   "id": "0772c74d-5f4b-4c55-85f2-ca9f82a1e0a3",
   "metadata": {},
   "source": [
    "VGG 网络"
   ]
  },
  {
   "cell_type": "code",
   "execution_count": 3,
   "id": "cd75e3fd-a92a-4fb8-aa45-b4ea7e8c8fa0",
   "metadata": {},
   "outputs": [],
   "source": [
    "def vgg(conv_arch):\n",
    "    conv_blks = []\n",
    "    in_channels = 1\n",
    "    for (num_convs, out_channels) in conv_arch:\n",
    "        conv_blks.append(vgg_block(num_convs, in_channels, out_channels))\n",
    "        in_channels = out_channels\n",
    "\n",
    "    return nn.Sequential(\n",
    "        *conv_blks, nn.Flatten(), \n",
    "        nn.Linear(out_channels * 7 * 7, 4096), nn.ReLU(), #相当于每次卷积完大小不变，池化完大小减半（224/2**5 = 7）\n",
    "        nn.Dropout(0.5), nn.Linear(4096, 4096), nn.ReLU(), \n",
    "        nn.Dropout(0.5), nn.Linear(4096, 10)\n",
    "    )"
   ]
  },
  {
   "cell_type": "markdown",
   "id": "f6993400-6e5c-4f12-8cba-c0bc606d511b",
   "metadata": {},
   "source": [
    "一般认为 VGG 网络包含 5 个 VGG 块不变"
   ]
  },
  {
   "cell_type": "code",
   "execution_count": 4,
   "id": "5e871521-f7c1-4958-a77a-472c8df9ac66",
   "metadata": {},
   "outputs": [],
   "source": [
    "conv_arch = ((1, 64), (1, 128), (2, 256), (2, 512), (2, 512)) # (卷积层数，输出通道)\n",
    "net = vgg(conv_arch)"
   ]
  },
  {
   "cell_type": "code",
   "execution_count": 5,
   "id": "05524ad4-4fb4-43f5-ab00-6721ad20c2ed",
   "metadata": {},
   "outputs": [
    {
     "name": "stdout",
     "output_type": "stream",
     "text": [
      "Sequential output shape:\t torch.Size([1, 64, 112, 112])\n",
      "Sequential output shape:\t torch.Size([1, 128, 56, 56])\n",
      "Sequential output shape:\t torch.Size([1, 256, 28, 28])\n",
      "Sequential output shape:\t torch.Size([1, 512, 14, 14])\n",
      "Sequential output shape:\t torch.Size([1, 512, 7, 7])\n",
      "Flatten output shape:\t torch.Size([1, 25088])\n",
      "Linear output shape:\t torch.Size([1, 4096])\n",
      "ReLU output shape:\t torch.Size([1, 4096])\n",
      "Dropout output shape:\t torch.Size([1, 4096])\n",
      "Linear output shape:\t torch.Size([1, 4096])\n",
      "ReLU output shape:\t torch.Size([1, 4096])\n",
      "Dropout output shape:\t torch.Size([1, 4096])\n",
      "Linear output shape:\t torch.Size([1, 10])\n"
     ]
    }
   ],
   "source": [
    "X = torch.randn(size = (1, 1, 224, 224))\n",
    "for blk in net:\n",
    "    X = blk(X)\n",
    "    print(blk.__class__.__name__, 'output shape:\\t', X.shape)"
   ]
  },
  {
   "cell_type": "markdown",
   "id": "0c2be167-e5bc-4f2b-be4b-4babd35a81d8",
   "metadata": {},
   "source": [
    "使用通道数较小的 VGG-11 训练，因为 VGG 计算量比 AlexNet 大得多"
   ]
  },
  {
   "cell_type": "code",
   "execution_count": 6,
   "id": "251130a8-6041-49bd-8be5-e60022bbc72b",
   "metadata": {},
   "outputs": [],
   "source": [
    "ratio = 4\n",
    "small_conv_arch = [(pair[0], pair[1] // ratio) for pair in conv_arch]"
   ]
  },
  {
   "cell_type": "code",
   "execution_count": 7,
   "id": "7e501a74-d650-49b5-8df2-56fb875d0467",
   "metadata": {},
   "outputs": [],
   "source": [
    "net = vgg(small_conv_arch)"
   ]
  },
  {
   "cell_type": "markdown",
   "id": "bdb271ef-c16f-43e3-9b97-c61c1d5f3077",
   "metadata": {},
   "source": [
    "模型训练，这里实在是太久了，就不跑了"
   ]
  },
  {
   "cell_type": "code",
   "execution_count": 8,
   "id": "24f548b7-34a4-434b-a20e-49a3a217db26",
   "metadata": {},
   "outputs": [],
   "source": [
    "lr, num_epochs, batch_size = 0.05, 10, 128\n",
    "# train_iter, test_iter = d2l.load_data_fashion_mnist(batch_size=batch_size, resize=224)\n",
    "# d2l.train_ch6(net, train_iter, test_iter, num_epochs, lr, d2l.try_gpu())"
   ]
  }
 ],
 "metadata": {
  "kernelspec": {
   "display_name": "Python 3 (ipykernel)",
   "language": "python",
   "name": "python3"
  },
  "language_info": {
   "codemirror_mode": {
    "name": "ipython",
    "version": 3
   },
   "file_extension": ".py",
   "mimetype": "text/x-python",
   "name": "python",
   "nbconvert_exporter": "python",
   "pygments_lexer": "ipython3",
   "version": "3.10.14"
  }
 },
 "nbformat": 4,
 "nbformat_minor": 5
}
