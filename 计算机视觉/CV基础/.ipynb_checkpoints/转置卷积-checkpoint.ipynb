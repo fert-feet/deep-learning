{
 "cells": [
  {
   "cell_type": "code",
   "execution_count": 1,
   "id": "89441f17-3b6b-4351-b617-101820e6bc15",
   "metadata": {},
   "outputs": [],
   "source": [
    "import torch\n",
    "from torch import nn\n",
    "from d2l import torch as d2l"
   ]
  },
  {
   "cell_type": "markdown",
   "id": "529b053e-59c9-4249-98b1-37d8e3bbb1ce",
   "metadata": {},
   "source": [
    "`trans_conv` 函数实现 2 维转置卷积操作，其中输出的大小是 $h_\\text{in} + h_k - 1, w_\\text{in} + w_k - 1$"
   ]
  },
  {
   "cell_type": "code",
   "execution_count": 3,
   "id": "5d99b84f-99f8-4c82-90e0-8e4f8fc7ba95",
   "metadata": {},
   "outputs": [],
   "source": [
    "def trans_conv(X, K):\n",
    "    h, w = K.shape\n",
    "    Y = torch.zeros((X.shape[0] + h - 1, X.shape[1] + w - 1)) # 输出的高宽\n",
    "    for i in range(X.shape[0]):\n",
    "        for j in range(X.shape[1]):\n",
    "            Y[i: i + h, j: j + w] += X[i, j] * K\n",
    "    return Y"
   ]
  },
  {
   "cell_type": "code",
   "execution_count": 6,
   "id": "faa2d452-e604-4880-b293-b0bd822184c3",
   "metadata": {},
   "outputs": [
    {
     "data": {
      "text/plain": [
       "(tensor([[0., 1.],\n",
       "         [2., 3.]]),\n",
       " tensor([[0., 1.],\n",
       "         [2., 3.]]))"
      ]
     },
     "execution_count": 6,
     "metadata": {},
     "output_type": "execute_result"
    }
   ],
   "source": [
    "X = torch.arange(4, dtype=torch.float32).reshape(2, 2)\n",
    "K = torch.arange(4, dtype=torch.float32).reshape(2, 2)\n",
    "X, K"
   ]
  },
  {
   "cell_type": "code",
   "execution_count": 7,
   "id": "a0cb7fe4-f935-48f9-b335-42b8f5ddfa80",
   "metadata": {},
   "outputs": [
    {
     "data": {
      "text/plain": [
       "tensor([[ 0.,  0.,  1.],\n",
       "        [ 0.,  4.,  6.],\n",
       "        [ 4., 12.,  9.]])"
      ]
     },
     "execution_count": 7,
     "metadata": {},
     "output_type": "execute_result"
    }
   ],
   "source": [
    "trans_conv(X, K)"
   ]
  },
  {
   "cell_type": "markdown",
   "id": "6b2d32da-e1a7-4b5c-8a73-438843dfe9fc",
   "metadata": {},
   "source": [
    "4 维张量的转置卷积使用 API 实现，本身卷积核参数可学习，下面指定了固定的卷积核"
   ]
  },
  {
   "cell_type": "code",
   "execution_count": 11,
   "id": "66d10598-1d90-4c62-8527-f7782d3c59bb",
   "metadata": {},
   "outputs": [
    {
     "data": {
      "text/plain": [
       "tensor([[[[ 0.,  0.,  1.],\n",
       "          [ 0.,  4.,  6.],\n",
       "          [ 4., 12.,  9.]]]], grad_fn=<ConvolutionBackward0>)"
      ]
     },
     "execution_count": 11,
     "metadata": {},
     "output_type": "execute_result"
    }
   ],
   "source": [
    "X, K = X.reshape(1, 1, 2, 2), K.reshape(1, 1, 2, 2)\n",
    "tconv = nn.ConvTranspose2d(1, 1, kernel_size=2, bias=False)\n",
    "tconv.weight.data = K\n",
    "tconv(X)"
   ]
  },
  {
   "cell_type": "markdown",
   "id": "03032828-6ee0-4705-aefb-99d172392307",
   "metadata": {},
   "source": [
    "### 填充，步幅和多通道"
   ]
  },
  {
   "cell_type": "markdown",
   "id": "19557383-541a-4e40-9f8e-e483d61d21c1",
   "metadata": {},
   "source": [
    "填充为 1，步幅为 1 的情况"
   ]
  },
  {
   "cell_type": "code",
   "execution_count": 12,
   "id": "7860107a-8f84-41dc-a07b-d02a6b5f1430",
   "metadata": {},
   "outputs": [
    {
     "data": {
      "text/plain": [
       "tensor([[[[4.]]]], grad_fn=<ConvolutionBackward0>)"
      ]
     },
     "execution_count": 12,
     "metadata": {},
     "output_type": "execute_result"
    }
   ],
   "source": [
    "tconv = nn.ConvTranspose2d(1, 1, kernel_size=2, padding=1 ,bias=False)\n",
    "tconv.weight.data = K\n",
    "tconv(X)"
   ]
  },
  {
   "cell_type": "markdown",
   "id": "dd8c296a-e76c-4beb-8b8c-f6c7ab636925",
   "metadata": {},
   "source": [
    "填充为 0，步幅为 2 的情况"
   ]
  },
  {
   "cell_type": "code",
   "execution_count": 14,
   "id": "a73647e2-1332-4034-8f5f-bf71d5a852ee",
   "metadata": {},
   "outputs": [
    {
     "data": {
      "text/plain": [
       "tensor([[[[0., 0., 0., 1.],\n",
       "          [0., 0., 2., 3.],\n",
       "          [0., 2., 0., 3.],\n",
       "          [4., 6., 6., 9.]]]], grad_fn=<ConvolutionBackward0>)"
      ]
     },
     "execution_count": 14,
     "metadata": {},
     "output_type": "execute_result"
    }
   ],
   "source": [
    "tconv = nn.ConvTranspose2d(1, 1, kernel_size=2, stride=2, bias=False)\n",
    "tconv.weight.data = K\n",
    "tconv(X)"
   ]
  },
  {
   "cell_type": "markdown",
   "id": "fc6a50d7-5aa4-425a-9563-fd6184a3d2d2",
   "metadata": {},
   "source": [
    "转置卷积和卷积互换，在卷积核形状相同的情况下，转置卷积和卷积操作的输出输入通道数相反，输入和输出的形状也相反"
   ]
  },
  {
   "cell_type": "code",
   "execution_count": 19,
   "id": "32b759cf-0d49-4bd6-a6d7-ebc2cbc081ad",
   "metadata": {},
   "outputs": [
    {
     "data": {
      "text/plain": [
       "True"
      ]
     },
     "execution_count": 19,
     "metadata": {},
     "output_type": "execute_result"
    }
   ],
   "source": [
    "X = torch.arange(3200, dtype=torch.float32).reshape(1, 4, 20, 40)\n",
    "conv = nn.Conv2d(4, 10, kernel_size=2, padding=1, stride=2)\n",
    "tconv = nn.ConvTranspose2d(10, 4, kernel_size=2, padding=1, stride=2)\n",
    "tconv(conv(X)).shape == X.shape"
   ]
  },
  {
   "cell_type": "markdown",
   "id": "579bf995-edb2-4a37-b1fc-ffd4f5170961",
   "metadata": {},
   "source": [
    "### 与矩阵变换的关系"
   ]
  },
  {
   "cell_type": "code",
   "execution_count": 22,
   "id": "32e4abae-30b8-42e4-8478-790ec204778d",
   "metadata": {},
   "outputs": [
    {
     "data": {
      "text/plain": [
       "(tensor([[19., 25.],\n",
       "         [37., 43.]]),\n",
       " tensor([[0., 1.],\n",
       "         [2., 3.]]))"
      ]
     },
     "execution_count": 22,
     "metadata": {},
     "output_type": "execute_result"
    }
   ],
   "source": [
    "X = torch.arange(9.0).reshape(3, 3)\n",
    "K = torch.arange(4.0).reshape(2, 2)\n",
    "Y = d2l.corr2d(X, K)\n",
    "Y, K"
   ]
  },
  {
   "cell_type": "markdown",
   "id": "c7ff1d80-2269-45aa-a673-5b0bc67dfdc3",
   "metadata": {},
   "source": [
    "`kernel2matrix` 创建一个稀疏矩阵 W，其中非零元素来自卷积核 K"
   ]
  },
  {
   "cell_type": "code",
   "execution_count": 21,
   "id": "21f12d3e-0b1e-4518-817a-9d2d937d91c4",
   "metadata": {},
   "outputs": [
    {
     "data": {
      "text/plain": [
       "tensor([[0., 1., 0., 2., 3., 0., 0., 0., 0.],\n",
       "        [0., 0., 1., 0., 2., 3., 0., 0., 0.],\n",
       "        [0., 0., 0., 0., 1., 0., 2., 3., 0.],\n",
       "        [0., 0., 0., 0., 0., 1., 0., 2., 3.]])"
      ]
     },
     "execution_count": 21,
     "metadata": {},
     "output_type": "execute_result"
    }
   ],
   "source": [
    "def kernel2matrix(K):\n",
    "    k, W = torch.zeros(5), torch.zeros((4, 9))\n",
    "    k[:2], k[3:5] = K[0, :], K[1, :]\n",
    "    W[0, :5], W[1, 1:6], W[2, 3:8], W[3, 4:] = k, k, k, k\n",
    "    return W\n",
    "\n",
    "W = kernel2matrix(K)\n",
    "W"
   ]
  },
  {
   "cell_type": "markdown",
   "id": "e1578078-6aac-4f87-b753-e2e5aa82edce",
   "metadata": {},
   "source": [
    "将 W 和 X 的向量形式相乘得到 Y，和卷积操作得到的 Y 相同"
   ]
  },
  {
   "cell_type": "code",
   "execution_count": 27,
   "id": "33e5adcb-3986-4d46-821a-82a4e3ccf80c",
   "metadata": {},
   "outputs": [
    {
     "data": {
      "text/plain": [
       "tensor([[19., 25.],\n",
       "        [37., 43.]])"
      ]
     },
     "execution_count": 27,
     "metadata": {},
     "output_type": "execute_result"
    }
   ],
   "source": [
    "torch.matmul(W, X.reshape(-1)).reshape(2, 2)"
   ]
  },
  {
   "cell_type": "markdown",
   "id": "caf824cd-19cb-47c3-b676-41c8516ed991",
   "metadata": {},
   "source": [
    "同理可得转置卷积得出的结果和乘法结果相同，印证笔记 `原理.2` 中为什么被称为转置卷积部分的内容"
   ]
  },
  {
   "cell_type": "code",
   "execution_count": 30,
   "id": "5a7e64ed-2648-4f25-a02a-841c02de1426",
   "metadata": {},
   "outputs": [
    {
     "data": {
      "text/plain": [
       "(tensor([[  0.,  19.,  25.],\n",
       "         [ 38., 144., 118.],\n",
       "         [ 74., 197., 129.]]),\n",
       " tensor([[  0.,  19.,  25.],\n",
       "         [ 38., 144., 118.],\n",
       "         [ 74., 197., 129.]]))"
      ]
     },
     "execution_count": 30,
     "metadata": {},
     "output_type": "execute_result"
    }
   ],
   "source": [
    "trans_conv(Y, K), torch.matmul(W.T, Y.reshape(-1)).reshape(3, 3)"
   ]
  },
  {
   "cell_type": "code",
   "execution_count": null,
   "id": "5c1da5c1-e3f5-4755-b867-eafd445cfabb",
   "metadata": {},
   "outputs": [],
   "source": []
  }
 ],
 "metadata": {
  "kernelspec": {
   "display_name": "Python 3 (ipykernel)",
   "language": "python",
   "name": "python3"
  },
  "language_info": {
   "codemirror_mode": {
    "name": "ipython",
    "version": 3
   },
   "file_extension": ".py",
   "mimetype": "text/x-python",
   "name": "python",
   "nbconvert_exporter": "python",
   "pygments_lexer": "ipython3",
   "version": "3.10.14"
  }
 },
 "nbformat": 4,
 "nbformat_minor": 5
}
