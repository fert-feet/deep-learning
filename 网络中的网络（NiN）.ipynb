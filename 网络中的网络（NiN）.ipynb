{
 "cells": [
  {
   "cell_type": "code",
   "execution_count": 1,
   "id": "9b0d6d6b-0cc3-4068-92c1-886f846ac3ad",
   "metadata": {},
   "outputs": [],
   "source": [
    "import torch\n",
    "from torch import nn\n",
    "from d2l import torch as d2l"
   ]
  },
  {
   "cell_type": "markdown",
   "id": "cb9e0dea-32e1-4147-b1b7-a39dd6ace126",
   "metadata": {},
   "source": [
    "`nin_block` 函数定义一个 NiN 块"
   ]
  },
  {
   "cell_type": "code",
   "execution_count": 8,
   "id": "7deb96ef-e68f-4f01-88ca-f4e905164f69",
   "metadata": {},
   "outputs": [],
   "source": [
    "def nin_block(in_channels, out_channels, kernel_size, strides, padding):\n",
    "    return nn.Sequential(\n",
    "        nn.Conv2d(in_channels, out_channels, kernel_size, strides, padding), nn.ReLU(), \n",
    "        nn.Conv2d(out_channels, out_channels, kernel_size=1), nn.ReLU(), \n",
    "        nn.Conv2d(out_channels, out_channels, kernel_size=1), nn.ReLU()\n",
    "    )"
   ]
  },
  {
   "cell_type": "markdown",
   "id": "13db4d50-a3ef-4e04-b9de-984bc3a73a23",
   "metadata": {},
   "source": [
    "NiN 架构最早是基于 AlexNet 而来的，因此其架构相似"
   ]
  },
  {
   "cell_type": "code",
   "execution_count": 9,
   "id": "bae7f750-779b-4e1d-9b14-0777ec6950bc",
   "metadata": {},
   "outputs": [],
   "source": [
    "net = nn.Sequential(\n",
    "    nin_block(1, 96, kernel_size=11, strides=4, padding=0), \n",
    "    nn.MaxPool2d(3, stride=2), \n",
    "    nin_block(96, 256, kernel_size=5, strides=1, padding=2), \n",
    "    nn.MaxPool2d(3, stride=2), \n",
    "    nin_block(256, 384, kernel_size=3, strides=1, padding=1), \n",
    "    nn.MaxPool2d(3, stride=2), nn.Dropout(0.5),\n",
    "    nin_block(384, 10, kernel_size=3, strides=1, padding=1),\n",
    "    nn.AdaptiveAvgPool2d((1, 1)),\n",
    "    nn.Flatten() # batch_size x 类别\n",
    ")"
   ]
  },
  {
   "cell_type": "code",
   "execution_count": 11,
   "id": "86692a15-a7d0-4c82-ae36-e68b977ca45a",
   "metadata": {},
   "outputs": [
    {
     "name": "stdout",
     "output_type": "stream",
     "text": [
      "Sequential output shape:\t torch.Size([1, 96, 54, 54])\n",
      "MaxPool2d output shape:\t torch.Size([1, 96, 26, 26])\n",
      "Sequential output shape:\t torch.Size([1, 256, 26, 26])\n",
      "MaxPool2d output shape:\t torch.Size([1, 256, 12, 12])\n",
      "Sequential output shape:\t torch.Size([1, 384, 12, 12])\n",
      "MaxPool2d output shape:\t torch.Size([1, 384, 5, 5])\n",
      "Dropout output shape:\t torch.Size([1, 384, 5, 5])\n",
      "Sequential output shape:\t torch.Size([1, 10, 5, 5])\n",
      "AdaptiveAvgPool2d output shape:\t torch.Size([1, 10, 1, 1])\n",
      "Flatten output shape:\t torch.Size([1, 10])\n"
     ]
    }
   ],
   "source": [
    "X = torch.rand(size=(1, 1, 224, 224))\n",
    "for layer in net:\n",
    "    X = layer(X)\n",
    "    print(layer.__class__.__name__,'output shape:\\t', X.shape)"
   ]
  },
  {
   "cell_type": "markdown",
   "id": "cbd7324e-8aeb-4ede-8543-e3891ee4c4ae",
   "metadata": {},
   "source": [
    "本电脑跑冒烟了，后续再在 colab 跑"
   ]
  },
  {
   "cell_type": "code",
   "execution_count": 12,
   "id": "3cf99c40-17ff-4eed-8a85-4dd93e088868",
   "metadata": {},
   "outputs": [],
   "source": [
    "lr, num_epoches, batch_size = 0.1, 10, 128\n",
    "# train_iter, test_iter = d2l.load_data_fashion_mnist(batch_size, resize=224)\n",
    "# d2l.train_ch6(net, train_iter, test_iter, num_epoches, lr, d2l.try_gpu())"
   ]
  },
  {
   "cell_type": "code",
   "execution_count": null,
   "id": "cfe6619d-6a10-4d2e-b09c-416b5a7ec8a2",
   "metadata": {},
   "outputs": [],
   "source": []
  }
 ],
 "metadata": {
  "kernelspec": {
   "display_name": "Python 3 (ipykernel)",
   "language": "python",
   "name": "python3"
  },
  "language_info": {
   "codemirror_mode": {
    "name": "ipython",
    "version": 3
   },
   "file_extension": ".py",
   "mimetype": "text/x-python",
   "name": "python",
   "nbconvert_exporter": "python",
   "pygments_lexer": "ipython3",
   "version": "3.10.14"
  }
 },
 "nbformat": 4,
 "nbformat_minor": 5
}
