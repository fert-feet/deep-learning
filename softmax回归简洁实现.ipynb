{
 "cells": [
  {
   "cell_type": "markdown",
   "id": "2f39e4cb-18d8-460f-ae22-8075cf96585b",
   "metadata": {},
   "source": [
    "### 数据部分"
   ]
  },
  {
   "cell_type": "code",
   "execution_count": 2,
   "id": "2151ae34-55a9-4cf3-928c-c873b2c4bebb",
   "metadata": {},
   "outputs": [],
   "source": [
    "import torch\n",
    "from torch import nn\n",
    "from d2l import torch as d2l\n",
    "\n",
    "batch_size = 256\n",
    "train_iter, test_iter = d2l.load_data_fashion_mnist(batch_size)"
   ]
  },
  {
   "cell_type": "markdown",
   "id": "92ec38b1-bfc6-4216-be96-73580caa625e",
   "metadata": {},
   "source": [
    "### 初始化 `w`"
   ]
  },
  {
   "cell_type": "markdown",
   "id": "6e0de3e3-c65b-4e73-9ce7-e12bc2eb65c0",
   "metadata": {},
   "source": [
    "Softmax 回归的输入层是一个全连接层"
   ]
  },
  {
   "cell_type": "markdown",
   "id": "807c3f18-b5c1-46a0-949f-16907d88f21e",
   "metadata": {},
   "source": [
    "Pytorch 不会隐式地调整输入的形状\n",
    "因此，我们定义了展平层（flatten）在线性层之前调整网络输入状态，就是把图片展平成 784，原先是 28 * 28"
   ]
  },
  {
   "cell_type": "markdown",
   "id": "15521dbc-9b4b-4d49-9f64-1b855d2bf9e9",
   "metadata": {},
   "source": [
    "`init_weights` 函数用于生成 `w`"
   ]
  },
  {
   "cell_type": "code",
   "execution_count": 3,
   "id": "0addd16d-b104-4f55-b287-c4ca624297c8",
   "metadata": {},
   "outputs": [
    {
     "data": {
      "text/plain": [
       "Sequential(\n",
       "  (0): Flatten(start_dim=1, end_dim=-1)\n",
       "  (1): Linear(in_features=784, out_features=10, bias=True)\n",
       ")"
      ]
     },
     "execution_count": 3,
     "metadata": {},
     "output_type": "execute_result"
    }
   ],
   "source": [
    "net = nn.Sequential(nn.Flatten(), nn.Linear(784, 10)) # 从左至右为从里到外的层数\n",
    "\n",
    "def init_weights(m): # m 是 layer\n",
    "    if type(m) == nn.Linear:\n",
    "        nn.init.normal_(m.weight, std=0.01) # std 是标准差\n",
    "\n",
    "net.apply(init_weights) # 对每个层次都做一次初始化"
   ]
  },
  {
   "cell_type": "markdown",
   "id": "f592d741-08cb-48f6-bba1-3e39e7fd04bb",
   "metadata": {},
   "source": [
    "### 定义交叉熵损失"
   ]
  },
  {
   "cell_type": "code",
   "execution_count": 4,
   "id": "f8dc4b90-4fd7-4d47-8315-4b13778d9f31",
   "metadata": {},
   "outputs": [],
   "source": [
    "loss = nn.CrossEntropyLoss()"
   ]
  },
  {
   "cell_type": "markdown",
   "id": "675d23a1-ab30-428a-9cea-203e7f2ec094",
   "metadata": {},
   "source": [
    "### 定义随机梯度下降优化函数"
   ]
  },
  {
   "cell_type": "code",
   "execution_count": 7,
   "id": "dfee4112-3e43-49b6-b762-d79d9c0df613",
   "metadata": {},
   "outputs": [],
   "source": [
    "trainer = torch.optim.SGD(net.parameters(), lr = 0.1)"
   ]
  },
  {
   "cell_type": "code",
   "execution_count": 17,
   "id": "83472141-d727-4add-b286-ba2ecfa5d9c3",
   "metadata": {},
   "outputs": [
    {
     "ename": "AttributeError",
     "evalue": "module 'd2l.torch' has no attribute 'train_ch3'",
     "output_type": "error",
     "traceback": [
      "\u001b[1;31m---------------------------------------------------------------------------\u001b[0m",
      "\u001b[1;31mAttributeError\u001b[0m                            Traceback (most recent call last)",
      "Cell \u001b[1;32mIn[17], line 2\u001b[0m\n\u001b[0;32m      1\u001b[0m num_epochs \u001b[38;5;241m=\u001b[39m \u001b[38;5;241m10\u001b[39m\n\u001b[1;32m----> 2\u001b[0m \u001b[43md2l\u001b[49m\u001b[38;5;241;43m.\u001b[39;49m\u001b[43mtrain_ch3\u001b[49m(net, train_iter, test_iter, loss, num_epochs, trainer)\n",
      "\u001b[1;31mAttributeError\u001b[0m: module 'd2l.torch' has no attribute 'train_ch3'"
     ]
    }
   ],
   "source": [
    "num_epochs = 10\n",
    "d2l.train_ch3(net, train_iter, test_iter, loss, num_epochs, trainer) # 这里应该是和从零开始softmax章节中的 train_ch3 函数一样，只不过出了问题，但不影响"
   ]
  },
  {
   "cell_type": "code",
   "execution_count": null,
   "id": "0b269449-c591-4623-b8ba-52b0289662cf",
   "metadata": {},
   "outputs": [],
   "source": []
  }
 ],
 "metadata": {
  "kernelspec": {
   "display_name": "Python 3 (ipykernel)",
   "language": "python",
   "name": "python3"
  },
  "language_info": {
   "codemirror_mode": {
    "name": "ipython",
    "version": 3
   },
   "file_extension": ".py",
   "mimetype": "text/x-python",
   "name": "python",
   "nbconvert_exporter": "python",
   "pygments_lexer": "ipython3",
   "version": "3.10.14"
  }
 },
 "nbformat": 4,
 "nbformat_minor": 5
}
