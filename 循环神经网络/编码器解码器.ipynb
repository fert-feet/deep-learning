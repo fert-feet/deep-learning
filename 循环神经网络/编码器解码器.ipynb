{
 "cells": [
  {
   "cell_type": "code",
   "id": "initial_id",
   "metadata": {
    "collapsed": true,
    "ExecuteTime": {
     "end_time": "2024-09-22T06:44:20.648143Z",
     "start_time": "2024-09-22T06:44:08.931151Z"
    }
   },
   "source": [
    "from torch import nn"
   ],
   "outputs": [],
   "execution_count": 1
  },
  {
   "cell_type": "markdown",
   "id": "64035fcf3d676d0b",
   "metadata": {},
   "source": [
    "编码器接收输入"
   ]
  },
  {
   "cell_type": "code",
   "id": "80155a763efe957",
   "metadata": {
    "ExecuteTime": {
     "end_time": "2024-09-22T06:44:20.667382Z",
     "start_time": "2024-09-22T06:44:20.651755Z"
    }
   },
   "source": [
    "class Encoder(nn.Module):\n",
    "    def __init__(self, **kwargs):\n",
    "        super(Encoder, self).__init__(**kwargs)\n",
    "        \n",
    "    def forward(self, x, *args):\n",
    "        raise NotImplementedError"
   ],
   "outputs": [],
   "execution_count": 2
  },
  {
   "cell_type": "markdown",
   "id": "2bc7bf1c",
   "metadata": {},
   "source": [
    "解码器接收编码器的输出和额外的输入 X "
   ]
  },
  {
   "cell_type": "code",
   "id": "1ba1298d6e5c8e54",
   "metadata": {
    "ExecuteTime": {
     "end_time": "2024-09-22T06:44:20.681241Z",
     "start_time": "2024-09-22T06:44:20.667382Z"
    }
   },
   "source": [
    "class Decoder(nn.Module):\n",
    "    def __init__(self, **kwargs):\n",
    "        super(Decoder, self).__init__(**kwargs)\n",
    "    \n",
    "    def init_state(self, enc_outputs, *args):\n",
    "        raise NotImplementedError\n",
    "    \n",
    "    def forward(self, X, state):\n",
    "        raise NotImplementedError"
   ],
   "outputs": [],
   "execution_count": 3
  },
  {
   "cell_type": "markdown",
   "id": "6b3705ad",
   "metadata": {},
   "source": [
    "合并编码器和解码器"
   ]
  },
  {
   "cell_type": "code",
   "id": "9da6b3d3",
   "metadata": {
    "ExecuteTime": {
     "end_time": "2024-09-22T06:44:20.700025Z",
     "start_time": "2024-09-22T06:44:20.684401Z"
    }
   },
   "source": [
    "class EncoderDecoder(nn.Module):\n",
    "    def __init__(self, encoder, decoder, **kwargs):\n",
    "        super(EncoderDecoder, self).__init__(**kwargs)\n",
    "        self.encoder = encoder\n",
    "        self.decoder = decoder\n",
    "    \n",
    "    def forward(self, enc_x, dec_x, *args):\n",
    "        enc_out = self.encoder(enc_x, *args)\n",
    "        dec_state = self.decoder.init_state(enc_out, *args) # 编码器的输出\n",
    "        return self.encoder(dec_x, dec_state)"
   ],
   "outputs": [],
   "execution_count": 4
  },
  {
   "cell_type": "code",
   "id": "5bc78fe0",
   "metadata": {
    "ExecuteTime": {
     "end_time": "2024-09-22T06:44:20.825041Z",
     "start_time": "2024-09-22T06:44:20.809414Z"
    }
   },
   "source": [],
   "outputs": [],
   "execution_count": null
  }
 ],
 "metadata": {
  "kernelspec": {
   "display_name": "Python 3",
   "language": "python",
   "name": "python3"
  },
  "language_info": {
   "codemirror_mode": {
    "name": "ipython",
    "version": 3
   },
   "file_extension": ".py",
   "mimetype": "text/x-python",
   "name": "python",
   "nbconvert_exporter": "python",
   "pygments_lexer": "ipython3",
   "version": "3.10.14"
  }
 },
 "nbformat": 4,
 "nbformat_minor": 5
}
