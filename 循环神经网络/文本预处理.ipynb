{
 "cells": [
  {
   "metadata": {
    "ExecuteTime": {
     "end_time": "2024-08-16T08:50:20.662846Z",
     "start_time": "2024-08-16T08:49:56.944149Z"
    }
   },
   "cell_type": "code",
   "source": [
    "import collections\n",
    "import re\n",
    "from d2l import torch as d2l"
   ],
   "id": "5e8d680b4b1d9342",
   "outputs": [],
   "execution_count": 1
  },
  {
   "metadata": {},
   "cell_type": "markdown",
   "source": "`read_time_machine` 将小说数据集加载到文本行的列表中，且将所有大写都换成小写字符，标点符号换成空格，最后返回一个列表",
   "id": "5a6c59a26df96a73"
  },
  {
   "metadata": {
    "ExecuteTime": {
     "end_time": "2024-08-16T09:08:43.569769Z",
     "start_time": "2024-08-16T09:08:43.551811Z"
    }
   },
   "cell_type": "code",
   "source": [
    "def read_time_machine():\n",
    "    with open('../data/timemachineBook/timemachine.txt', 'r') as f:\n",
    "        lines = f.readlines()\n",
    "    \"\"\" 把不是字母的东西都变成空格，其实就是把标点符号变成空格 \"\"\"\n",
    "    return [re.sub('[^A-Za-z]+', ' ', line).strip().lower() for line in lines] # strip() 去除行符"
   ],
   "id": "11eed771475cfc9d",
   "outputs": [],
   "execution_count": 16
  },
  {
   "metadata": {
    "ExecuteTime": {
     "end_time": "2024-08-16T09:07:46.350719Z",
     "start_time": "2024-08-16T09:07:46.320798Z"
    }
   },
   "cell_type": "code",
   "source": [
    "lines = read_time_machine()\n",
    "print(f'# 文本总行数: {len(lines)}')\n",
    "print(lines[0])\n",
    "print(lines[10])"
   ],
   "id": "1d918b07c1c56473",
   "outputs": [
    {
     "name": "stdout",
     "output_type": "stream",
     "text": [
      "# 文本总行数: 3221\n",
      "the time machine by h g wells\n",
      "twinkled and his usually pale face was flushed and animated the\n"
     ]
    }
   ],
   "execution_count": 15
  },
  {
   "metadata": {},
   "cell_type": "markdown",
   "source": "`tokenize` 函数将 `lines` 中每一段文本序列拆分成词元（token），词元可以是一个单词或者一个字符串组成",
   "id": "a4ae2fc27ea75f9"
  },
  {
   "metadata": {
    "ExecuteTime": {
     "end_time": "2024-08-16T09:13:07.472279Z",
     "start_time": "2024-08-16T09:13:07.460312Z"
    }
   },
   "cell_type": "code",
   "source": [
    "def tokenize(lines, token='word'):\n",
    "    if token == 'word':\n",
    "        return [line.split() for line in lines]\n",
    "    elif token == 'char':\n",
    "        return [list(line) for line in lines]\n",
    "    else:\n",
    "        print('wrong token:' + token)"
   ],
   "id": "796c7f28aba8b80b",
   "outputs": [],
   "execution_count": 17
  },
  {
   "metadata": {
    "ExecuteTime": {
     "end_time": "2024-08-16T10:51:06.842843Z",
     "start_time": "2024-08-16T10:51:06.827183Z"
    }
   },
   "cell_type": "code",
   "source": [
    "tokens_word = tokenize(lines, token='word')\n",
    "tokens_word[0]"
   ],
   "id": "efb4d30839742166",
   "outputs": [
    {
     "data": {
      "text/plain": [
       "['the', 'time', 'machine', 'by', 'h', 'g', 'wells']"
      ]
     },
     "execution_count": 42,
     "metadata": {},
     "output_type": "execute_result"
    }
   ],
   "execution_count": 42
  },
  {
   "metadata": {},
   "cell_type": "markdown",
   "source": "### 词表（字典）",
   "id": "dea6df881780270f"
  },
  {
   "metadata": {},
   "cell_type": "markdown",
   "source": "`Vocab` 类将词元列表变为带有下标的字典，形式：{'a': 0, 'adan': 1}，最终结果在 `self.token_to_idx` 这个参数中，对词元进行频率统计得到结果称为语料（corpus）",
   "id": "5527bb33192929b8"
  },
  {
   "metadata": {
    "ExecuteTime": {
     "end_time": "2024-08-16T10:52:07.909147Z",
     "start_time": "2024-08-16T10:52:07.860737Z"
    }
   },
   "cell_type": "code",
   "source": [
    "class Vocab:\n",
    "    \"\"\" reserved_tokens 说明句子开始和结束 \"\"\"\n",
    "    def __init__(self, tokens=None, min_freq=0, reserved_tokens=None):\n",
    "        if tokens is None:\n",
    "            tokens = []\n",
    "        if reserved_tokens is None:\n",
    "            reserved_tokens = []\n",
    "        counter = count_corpus(tokens) # 得到词元出现次数\n",
    "        self._token_freqs = sorted(counter.items(), key=lambda x: x[1], reverse=True) # 按出现频率排序，由大到小 \n",
    "        self.idx_to_token = ['<unk>'] + reserved_tokens\n",
    "        self.token_to_idx = {token: idx for idx, token in enumerate(self.idx_to_token)}\n",
    "        for token, freq in self._token_freqs:\n",
    "            if freq < min_freq: # 词元出现次数太少就不做统计\n",
    "                break\n",
    "            if token not in self.token_to_idx:\n",
    "                self.idx_to_token.append(token) # 将当前词元添加到列表中，这个 idx_to_token 列表是为了拿到下标做准备，形式：['unk', 'the']\n",
    "                self.token_to_idx[token] = len(self.idx_to_token) - 1 # 形式：{'unk': 0, 'the': 1}，这里 len(self.idx_to_token) - 1 是下标，减去 1 是因为之前有一个 'unk'\n",
    "    \n",
    "    def __len__(self):\n",
    "        return len(self.idx_to_token)\n",
    "    \n",
    "    def __getitem__(self, tokens):\n",
    "        if not isinstance(tokens, (list, tuple)):\n",
    "            return self.token_to_idx.get(tokens, self.unk)\n",
    "        return [self.__getitem__(token) for token in tokens]\n",
    "    \n",
    "    def to_tokens(self, indices):\n",
    "        if not isinstance(indices, (list, tuple)):\n",
    "            return [self.idx_to_token[index] for index in indices]\n",
    "    \n",
    "    def unk(self):\n",
    "        return 0\n",
    "    \n",
    "    def token_freq(self):\n",
    "        return self._token_freq"
   ],
   "id": "8adba2f1a9e8a383",
   "outputs": [],
   "execution_count": 44
  },
  {
   "metadata": {},
   "cell_type": "markdown",
   "source": "`count_corpus` 计算一个词元列表中所有元素的出现频率，且返回一个字典，词元作为 key，频率作为 value",
   "id": "2fc33d05c139ef5c"
  },
  {
   "metadata": {
    "ExecuteTime": {
     "end_time": "2024-08-16T09:33:11.537685Z",
     "start_time": "2024-08-16T09:33:11.525114Z"
    }
   },
   "cell_type": "code",
   "source": [
    "def count_corpus(tokens):\n",
    "    if len(tokens) == 0 or isinstance(tokens[0], list): # isinstance() 函数是判断一个对象是否为传入的类型或者子类\n",
    "        tokens = [token for line in tokens for token in line] # 两个循环先前面再后面\n",
    "    return collections.Counter(tokens)"
   ],
   "id": "a15f67a5c964cbf7",
   "outputs": [],
   "execution_count": 29
  },
  {
   "metadata": {
    "ExecuteTime": {
     "end_time": "2024-08-16T11:14:27.694278Z",
     "start_time": "2024-08-16T11:14:27.662912Z"
    }
   },
   "cell_type": "code",
   "source": [
    "vocab = Vocab(tokens_word)\n",
    "# list(vocab.token_to_idx.items())[:5]"
   ],
   "id": "2031be3d38ac2c1e",
   "outputs": [
    {
     "data": {
      "text/plain": [
       "22"
      ]
     },
     "execution_count": 66,
     "metadata": {},
     "output_type": "execute_result"
    }
   ],
   "execution_count": 66
  },
  {
   "metadata": {
    "ExecuteTime": {
     "end_time": "2024-08-16T11:04:17.289421Z",
     "start_time": "2024-08-16T11:04:17.273834Z"
    }
   },
   "cell_type": "code",
   "source": [
    "for i in [0, 10]:\n",
    "    print('文本', tokens_word[i])\n",
    "    print('索引', vocab[tokens_word[i]])"
   ],
   "id": "ee89c207a3b11890",
   "outputs": [
    {
     "name": "stdout",
     "output_type": "stream",
     "text": [
      "文本 ['the', 'time', 'machine', 'by', 'h', 'g', 'wells']\n",
      "索引 [1, 19, 50, 40, 2183, 2184, 400]\n",
      "文本 ['twinkled', 'and', 'his', 'usually', 'pale', 'face', 'was', 'flushed', 'and', 'animated', 'the']\n",
      "索引 [2186, 3, 25, 1044, 362, 113, 7, 1421, 3, 1045, 1]\n"
     ]
    }
   ],
   "execution_count": 56
  },
  {
   "metadata": {},
   "cell_type": "markdown",
   "source": "### 功能打包",
   "id": "3295fa78427e35b6"
  },
  {
   "metadata": {},
   "cell_type": "markdown",
   "source": "`load_corpus_time_machine` 函数将以上功能打包，返回词元索引列表 `corpus` 和 语料库的词表（索引字典） `vovab`",
   "id": "7a8c9fd28ec5fae6"
  },
  {
   "metadata": {
    "ExecuteTime": {
     "end_time": "2024-08-16T11:17:59.958018Z",
     "start_time": "2024-08-16T11:17:59.942397Z"
    }
   },
   "cell_type": "code",
   "source": [
    "def load_corpus_time_machine(max_token=-1):\n",
    "    lines = read_time_machine()\n",
    "    tokens = tokenize(lines, token='char')\n",
    "    vocab = Vocab(tokens)\n",
    "    corpus = [vocab[token] for line in tokens for token in line]\n",
    "    if max_token > 0:\n",
    "        corpus = corpus[:max_token]\n",
    "    return corpus, vocab"
   ],
   "id": "8b31c3d8148878d5",
   "outputs": [],
   "execution_count": 69
  },
  {
   "metadata": {},
   "cell_type": "code",
   "outputs": [],
   "execution_count": null,
   "source": " ",
   "id": "e881470f889b6e2b"
  }
 ],
 "metadata": {
  "kernelspec": {
   "display_name": "Python 3",
   "language": "python",
   "name": "python3"
  },
  "language_info": {
   "codemirror_mode": {
    "name": "ipython",
    "version": 2
   },
   "file_extension": ".py",
   "mimetype": "text/x-python",
   "name": "python",
   "nbconvert_exporter": "python",
   "pygments_lexer": "ipython2",
   "version": "2.7.6"
  }
 },
 "nbformat": 4,
 "nbformat_minor": 5
}
