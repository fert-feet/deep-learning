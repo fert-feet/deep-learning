{
 "cells": [
  {
   "cell_type": "code",
   "execution_count": 15,
   "id": "fcb83ec8-6b2d-42c6-89a5-63234dc761ae",
   "metadata": {},
   "outputs": [
    {
     "name": "stdout",
     "output_type": "stream",
     "text": [
      "tensor([ 3, 10])\n",
      "tensor([1, 5])\n",
      "tensor([9, 7])\n",
      "tensor([2, 6])\n",
      "tensor([8, 4])\n"
     ]
    }
   ],
   "source": [
    "from torch.utils.data import Dataset, DataLoader\n",
    "\n",
    "class MyDataset(Dataset):\n",
    "    def __init__(self, data):\n",
    "        self.data = data\n",
    "        \n",
    "    def __len__(self):\n",
    "        return len(self.data)\n",
    "    \n",
    "    def __getitem__(self, idx):\n",
    "        return self.data[idx]\n",
    "\n",
    "# 创建自定义数据集实例\n",
    "my_data = [1, 2, 3, 4, 5, 6, 7,8,9,10]\n",
    "my_dataset = MyDataset(my_data)\n",
    "\n",
    "batch_size = 2\n",
    "# 使用DataLoader加载自定义数据集my_dataset\n",
    "dataloader = DataLoader(dataset=my_dataset, batch_size=batch_size, shuffle=True)\n",
    "\n",
    "for data in dataloader:\n",
    "\tprint(data)"
   ]
  },
  {
   "cell_type": "code",
   "execution_count": null,
   "id": "7ba80f4d-8560-41ba-8bc6-1c037730f3d7",
   "metadata": {},
   "outputs": [],
   "source": []
  }
 ],
 "metadata": {
  "kernelspec": {
   "display_name": "Python 3 (ipykernel)",
   "language": "python",
   "name": "python3"
  },
  "language_info": {
   "codemirror_mode": {
    "name": "ipython",
    "version": 3
   },
   "file_extension": ".py",
   "mimetype": "text/x-python",
   "name": "python",
   "nbconvert_exporter": "python",
   "pygments_lexer": "ipython3",
   "version": "3.10.14"
  }
 },
 "nbformat": 4,
 "nbformat_minor": 5
}
