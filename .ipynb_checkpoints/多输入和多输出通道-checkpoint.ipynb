{
 "cells": [
  {
   "cell_type": "code",
   "execution_count": 1,
   "id": "ebb6772c-ccbc-4aee-980d-77658bcf6ef3",
   "metadata": {},
   "outputs": [],
   "source": [
    "import torch\n",
    "from d2l import torch as d2l"
   ]
  },
  {
   "cell_type": "markdown",
   "id": "98dfb00e-a31f-4338-a100-a781607745b3",
   "metadata": {},
   "source": [
    "`corr2d_multi_in` 函数实现了多输入通道的互相关操作"
   ]
  },
  {
   "cell_type": "code",
   "execution_count": 11,
   "id": "33fbb222-b88b-42e2-b304-6a563b8e5bc5",
   "metadata": {},
   "outputs": [],
   "source": [
    "def corr2d_multi_in(X, K):\n",
    "    return sum(d2l.corr2d(x, k) for x, k in zip(X, K)) # zip 对最外面的维度做遍历"
   ]
  },
  {
   "cell_type": "code",
   "execution_count": 9,
   "id": "67c31254-189c-4d77-9fcb-ef11fd44b068",
   "metadata": {},
   "outputs": [
    {
     "data": {
      "text/plain": [
       "(tensor([[[ 0.,  1.,  2.],\n",
       "          [ 3.,  4.,  5.],\n",
       "          [ 6.,  7.,  8.]],\n",
       " \n",
       "         [[ 9., 10., 11.],\n",
       "          [12., 13., 14.],\n",
       "          [15., 16., 17.]],\n",
       " \n",
       "         [[18., 19., 20.],\n",
       "          [21., 22., 23.],\n",
       "          [24., 25., 26.]]]),\n",
       " tensor([[[1., 1.],\n",
       "          [1., 1.]],\n",
       " \n",
       "         [[1., 1.],\n",
       "          [1., 1.]],\n",
       " \n",
       "         [[1., 1.],\n",
       "          [1., 1.]]]))"
      ]
     },
     "execution_count": 9,
     "metadata": {},
     "output_type": "execute_result"
    }
   ],
   "source": [
    "X = torch.arange(27, dtype=torch.float32).reshape((3, 3, 3))\n",
    "K = torch.ones(12, dtype=torch.float32).reshape((3,2,2))\n",
    "X, K"
   ]
  },
  {
   "cell_type": "code",
   "execution_count": 10,
   "id": "a47fc6dc-c928-4359-be88-8c7ef6789f61",
   "metadata": {},
   "outputs": [
    {
     "data": {
      "text/plain": [
       "tensor([[132., 144.],\n",
       "        [168., 180.]])"
      ]
     },
     "execution_count": 10,
     "metadata": {},
     "output_type": "execute_result"
    }
   ],
   "source": [
    "corr2d_multi_in(X, K)"
   ]
  },
  {
   "cell_type": "markdown",
   "id": "912484a6-5f30-4300-b12e-a002aedafaa8",
   "metadata": {},
   "source": [
    "`corr2d_multi_in_out` 函数实现多输入，多输出通道的互相关操作"
   ]
  },
  {
   "cell_type": "code",
   "execution_count": 14,
   "id": "db362cd0-c120-47b8-bbf7-e25f92c7cf06",
   "metadata": {},
   "outputs": [],
   "source": [
    "def corr2d_multi_in_out(X, K):\n",
    "    \"\"\" 这里的 K 是 4 维的，把每一维的三维核拿出来做多输入互相关再放入 stack 中 \"\"\"\n",
    "    return torch.stack([corr2d_multi_in(X, k) for k in K], 0) # 0 代表最外面那一维度（输出通道）做栈堆放"
   ]
  },
  {
   "cell_type": "code",
   "execution_count": 16,
   "id": "c115310b-a194-4b5f-af08-8f8077d47ae6",
   "metadata": {},
   "outputs": [
    {
     "data": {
      "text/plain": [
       "torch.Size([3, 3, 2, 2])"
      ]
     },
     "execution_count": 16,
     "metadata": {},
     "output_type": "execute_result"
    }
   ],
   "source": [
    "K = torch.ones(36, dtype=torch.float32).reshape((3, 3, 2, 2))\n",
    "K.shape"
   ]
  },
  {
   "cell_type": "code",
   "execution_count": 17,
   "id": "36b8f67d-d084-4f9b-82e5-b0ba83b3bd58",
   "metadata": {},
   "outputs": [
    {
     "data": {
      "text/plain": [
       "tensor([[[132., 144.],\n",
       "         [168., 180.]],\n",
       "\n",
       "        [[132., 144.],\n",
       "         [168., 180.]],\n",
       "\n",
       "        [[132., 144.],\n",
       "         [168., 180.]]])"
      ]
     },
     "execution_count": 17,
     "metadata": {},
     "output_type": "execute_result"
    }
   ],
   "source": [
    "corr2d_multi_in_out(X, K)"
   ]
  },
  {
   "cell_type": "markdown",
   "id": "e0fe23e2-456f-40d5-a26a-e180d2ce501c",
   "metadata": {},
   "source": [
    "`corr2d_multi_in_out_1x1` 函数实现 $1 \\times 1$ 卷积"
   ]
  },
  {
   "cell_type": "code",
   "execution_count": 20,
   "id": "7a6f034c-b9db-4306-9693-5096d396940a",
   "metadata": {},
   "outputs": [],
   "source": [
    "def corr2d_multi_in_out_1x1(X, K):\n",
    "    c_i, h, w = X.shape\n",
    "    c_o = K.shape[0]\n",
    "    X = X.reshape((c_i, h * w))\n",
    "    K = K.reshape((c_o, c_i))\n",
    "    Y = torch.mm(K, X)\n",
    "    return Y.reshape((c_o, h, w))"
   ]
  },
  {
   "cell_type": "code",
   "execution_count": 22,
   "id": "2f4b5a1a-5d80-4196-aad4-7e79e6cf936e",
   "metadata": {},
   "outputs": [
    {
     "data": {
      "text/plain": [
       "tensor([[[True, True, True],\n",
       "         [True, True, True],\n",
       "         [True, True, True]],\n",
       "\n",
       "        [[True, True, True],\n",
       "         [True, True, True],\n",
       "         [True, True, True]],\n",
       "\n",
       "        [[True, True, True],\n",
       "         [True, True, True],\n",
       "         [True, True, True]]])"
      ]
     },
     "execution_count": 22,
     "metadata": {},
     "output_type": "execute_result"
    }
   ],
   "source": [
    "K = torch.ones(9, dtype=torch.float32).reshape((3, 3, 1, 1))\n",
    "Y1 = corr2d_multi_in_out_1x1(X, K)\n",
    "Y2 = corr2d_multi_in_out(X, K)\n",
    "Y1 == Y2"
   ]
  },
  {
   "cell_type": "code",
   "execution_count": null,
   "id": "2e82c4d3-a030-4a6e-96fb-935e782dc148",
   "metadata": {},
   "outputs": [],
   "source": []
  }
 ],
 "metadata": {
  "kernelspec": {
   "display_name": "Python 3 (ipykernel)",
   "language": "python",
   "name": "python3"
  },
  "language_info": {
   "codemirror_mode": {
    "name": "ipython",
    "version": 3
   },
   "file_extension": ".py",
   "mimetype": "text/x-python",
   "name": "python",
   "nbconvert_exporter": "python",
   "pygments_lexer": "ipython3",
   "version": "3.10.14"
  }
 },
 "nbformat": 4,
 "nbformat_minor": 5
}
