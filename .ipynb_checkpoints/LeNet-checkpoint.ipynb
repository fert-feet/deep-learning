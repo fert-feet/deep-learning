{
 "cells": [
  {
   "cell_type": "code",
   "execution_count": 76,
   "id": "5a0c9f15-6a22-4994-8845-3385a6bd55a4",
   "metadata": {},
   "outputs": [],
   "source": [
    "import torch\n",
    "import torchvision\n",
    "import matplotlib.pyplot as plt\n",
    "from torchvision import transforms\n",
    "from torch.utils import data\n",
    "from torch import nn\n",
    "from d2l import torch as d2l\n",
    "%matplotlib inline"
   ]
  },
  {
   "cell_type": "code",
   "execution_count": 11,
   "id": "bb3b221d-a0cf-4e2b-9587-b2fd667a4ceb",
   "metadata": {},
   "outputs": [],
   "source": [
    "def load_data_mnist(batch_size):\n",
    "    mnist_train = torchvision.datasets.MNIST(root=\"./data/mnist\", \n",
    "                                                train=True, # 代表下载的是训练数据集\n",
    "                                                transform=transforms.ToTensor(), # 这里将下载的数据是 tensor，而不是图片\n",
    "                                                download=False) #默认从网上下载，如果事先下载好就不用设置为 T，放在指定目录即可\n",
    "\n",
    "    mnist_test = torchvision.datasets.MNIST(root=\"./data/mnist\", \n",
    "                                                train=False, # 代表下载的是测试数据集\n",
    "                                                transform=transforms.ToTensor(), \n",
    "                                                download=False)\n",
    "    return (data.DataLoader(mnist_train, batch_size, shuffle=True),\n",
    "            data.DataLoader(mnist_test, batch_size, shuffle=True))"
   ]
  },
  {
   "cell_type": "code",
   "execution_count": 53,
   "id": "731af27d-596f-4335-97b7-9e402685a429",
   "metadata": {},
   "outputs": [],
   "source": [
    "def get_net():\n",
    "    max_pool = nn.MaxPool2d(2)\n",
    "    conv2d_1 = nn.Conv2d(1, 6, 5, stride=1, padding=2)\n",
    "    conv2d_2 = nn.Conv2d(6, 16, 5, stride=1, padding=0)\n",
    "    full_con_layer_1 = nn.Linear(16 * 5 * 5, 120)\n",
    "    full_con_layer_2 = nn.Linear(120, 84)\n",
    "    output_layer = nn.Linear(84, 10)\n",
    "    leNet = nn.Sequential(conv2d_1, nn.ReLU(),  max_pool, \n",
    "                        conv2d_2, nn.ReLU(),  max_pool,\n",
    "                        nn.Flatten(start_dim=1, end_dim=-1),\n",
    "                        full_con_layer_1, nn.ReLU(),\n",
    "                        full_con_layer_2, nn.ReLU(),\n",
    "                        output_layer, nn.Softmax()\n",
    "                       ) \n",
    "    return leNet.cuda() if torch.cuda.is_available() else leNet"
   ]
  },
  {
   "cell_type": "code",
   "execution_count": 14,
   "id": "184c2380-4b16-4416-891d-9d51f905ea7c",
   "metadata": {},
   "outputs": [],
   "source": [
    "def get_loss():\n",
    "    return nn.CrossEntropyLoss().cuda() if torch.cuda.is_available() else nn.CrossEntropyLoss()"
   ]
  },
  {
   "cell_type": "code",
   "execution_count": 15,
   "id": "ee0c58ff-ce75-47d8-b053-d904de7853f4",
   "metadata": {},
   "outputs": [],
   "source": [
    "def get_updater(net, lr=1e-3):\n",
    "    return torch.optim.Adam(net.parameters(), lr=lr)"
   ]
  },
  {
   "cell_type": "code",
   "execution_count": 69,
   "id": "bd6b7a46-79bd-4132-b352-7b0285fcfc48",
   "metadata": {},
   "outputs": [],
   "source": [
    "def one_epoch_train(model: nn.Module, updater: torch.optim.Optimizer, loss, train_loss_list: list, total_train_step, train_loader):\n",
    "    model.train()\n",
    "    for X, y in train_loader:\n",
    "        if torch.cuda.is_available():\n",
    "            X = X.cuda()\n",
    "            y = y.cuda()\n",
    "        l = loss(model(X), y)\n",
    "        updater.zero_grad()\n",
    "        l.backward()\n",
    "        updater.step()\n",
    "        total_train_step += 1\n",
    "        train_loss_list.append(l.item())\n",
    "    return total_train_step"
   ]
  },
  {
   "cell_type": "code",
   "execution_count": 130,
   "id": "8705ac2f-e24f-44a5-b59f-b65d17d750a3",
   "metadata": {},
   "outputs": [],
   "source": [
    "def one_epoch_test(model: nn.Module, loss, test_loss_list: list, total_test_step, test_loader):\n",
    "    model.eval()\n",
    "    with torch.no_grad():\n",
    "        for X, y in test_loader:\n",
    "            if torch.cuda.is_available():\n",
    "                X = X.cuda()\n",
    "                y = y.cuda()\n",
    "            l = loss(model(X), y)\n",
    "            total_test_step += 1\n",
    "            test_loss_list.append(l.item())\n",
    "        return total_test_step"
   ]
  },
  {
   "cell_type": "code",
   "execution_count": 132,
   "id": "1e875851-5ff8-4879-8ca9-2b074b6d8d97",
   "metadata": {},
   "outputs": [],
   "source": [
    "def train_fn(model: nn.Module, loss, updater: torch.optim.Optimizer, num_epochs, train_loader, test_loader):\n",
    "    total_train_step = 0\n",
    "    total_test_step = 0\n",
    "    train_loss_list = []\n",
    "    test_loss_list = []\n",
    "    for epoch in range(num_epochs):\n",
    "        total_train_step = one_epoch_train(model, updater, loss, train_loss_list, total_train_step, train_loader)\n",
    "        # if total_train_step % 10 == 0:\n",
    "        print(\"train step: {}, train loss: {}\".format(total_train_step, train_loss_list[total_train_step - 1]))\n",
    "        total_test_step = one_epoch_test(model, loss, test_loss_list, total_test_step, test_loader)\n",
    "        # if total_test_step % 5 == 0:\n",
    "        print(\"test step: {}, test loss: {}\".format(total_test_step, test_loss_list[total_test_step - 1]))\n",
    "    return total_train_step, total_test_step, train_loss_list, test_loss_list"
   ]
  },
  {
   "cell_type": "code",
   "execution_count": 133,
   "id": "72925078-a645-43fe-a500-e8ebff24f9b6",
   "metadata": {},
   "outputs": [],
   "source": [
    "batch_size = 256\n",
    "train_loader, test_loader = load_data_mnist(batch_size)"
   ]
  },
  {
   "cell_type": "code",
   "execution_count": 134,
   "id": "bd899e2a-42dc-4242-8387-ea655bd250c3",
   "metadata": {},
   "outputs": [
    {
     "name": "stdout",
     "output_type": "stream",
     "text": [
      "train step: 235, train loss: 1.7603739500045776\n",
      "test step: 40, test loss: 1.6477024555206299\n",
      "train step: 470, train loss: 1.692097544670105\n",
      "test step: 80, test loss: 1.615383505821228\n",
      "train step: 705, train loss: 1.5497735738754272\n",
      "test step: 120, test loss: 1.5871093273162842\n",
      "train step: 940, train loss: 1.615377426147461\n",
      "test step: 160, test loss: 1.4632065296173096\n",
      "train step: 1175, train loss: 1.5622119903564453\n",
      "test step: 200, test loss: 1.5874630212783813\n"
     ]
    }
   ],
   "source": [
    "model = get_net()\n",
    "loss = get_loss()\n",
    "updater = get_updater(model)\n",
    "total_train_step, total_test_step, train_loss_list, test_loss_list = train_fn(model, loss, updater, 5, train_loader, test_loader)"
   ]
  },
  {
   "cell_type": "code",
   "execution_count": 128,
   "id": "9386282a-fa4b-40d9-893b-bdf5de785771",
   "metadata": {},
   "outputs": [
    {
     "data": {
      "image/png": "[encoded data removed]",
      "text/plain": [
       "<Figure size 640x480 with 1 Axes>"
      ]
     },
     "metadata": {},
     "output_type": "display_data"
    }
   ],
   "source": [
    "fig, ax = plt.subplots()\n",
    "ax.set_ylabel('loss')\n",
    "ax.set_xlabel('times')\n",
    "ax.plot(range(0, total_train_step), train_loss_list)\n",
    "ax.plot(range(0, total_test_step), test_loss_list)\n",
    "plt.show()"
   ]
  }
 ],
 "metadata": {
  "kernelspec": {
   "display_name": "Python 3 (ipykernel)",
   "language": "python",
   "name": "python3"
  },
  "language_info": {
   "codemirror_mode": {
    "name": "ipython",
    "version": 3
   },
   "file_extension": ".py",
   "mimetype": "text/x-python",
   "name": "python",
   "nbconvert_exporter": "python",
   "pygments_lexer": "ipython3",
   "version": "3.10.14"
  }
 },
 "nbformat": 4,
 "nbformat_minor": 5
}
