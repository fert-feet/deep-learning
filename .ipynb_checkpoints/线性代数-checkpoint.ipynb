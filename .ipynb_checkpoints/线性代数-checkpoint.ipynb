{
 "cells": [
  {
   "cell_type": "markdown",
   "id": "432ebf99-5654-4511-8a48-d1bc339b2b5c",
   "metadata": {},
   "source": [
    "## 线性代数\n",
    "标量由只有一个元素的张量表示"
   ]
  },
  {
   "cell_type": "code",
   "execution_count": 1,
   "id": "1bee9d4f-14b7-4b92-8a7c-e2642626b6e3",
   "metadata": {},
   "outputs": [
    {
     "data": {
      "text/plain": [
       "(tensor([5.]), tensor([6.]), tensor([1.5000]), tensor([9.]))"
      ]
     },
     "execution_count": 1,
     "metadata": {},
     "output_type": "execute_result"
    }
   ],
   "source": [
    "import torch\n",
    "\n",
    "x = torch.tensor([3.0])\n",
    "y = torch.tensor([2.0])\n",
    "\n",
    "x + y, x * y, x / y, x**y ## x**y 是指数运算"
   ]
  },
  {
   "cell_type": "code",
   "execution_count": 2,
   "id": "f4500973-2468-4797-b817-97bbb1dee7c6",
   "metadata": {},
   "outputs": [],
   "source": [
    "x = torch.arange(4)"
   ]
  },
  {
   "cell_type": "markdown",
   "id": "6dad9441-0146-4bde-87c7-01cfbbaff74c",
   "metadata": {},
   "source": [
    "访问张量长度"
   ]
  },
  {
   "cell_type": "code",
   "execution_count": 3,
   "id": "d1047c78-2c2f-4e2b-b1a7-78032e120782",
   "metadata": {},
   "outputs": [
    {
     "data": {
      "text/plain": [
       "4"
      ]
     },
     "execution_count": 3,
     "metadata": {},
     "output_type": "execute_result"
    }
   ],
   "source": [
    "len(x)"
   ]
  },
  {
   "cell_type": "markdown",
   "id": "2285363a-22b7-4bc3-b601-6c563e0f2ce0",
   "metadata": {},
   "source": [
    "通过指定分量 $m$ , $n$ 来创建一个形状为 $m * n$ 的矩阵"
   ]
  },
  {
   "cell_type": "code",
   "execution_count": 4,
   "id": "4f7a188a-0e52-4636-8ad0-0dd108883a4a",
   "metadata": {},
   "outputs": [
    {
     "data": {
      "text/plain": [
       "tensor([[ 0,  1,  2,  3],\n",
       "        [ 4,  5,  6,  7],\n",
       "        [ 8,  9, 10, 11],\n",
       "        [12, 13, 14, 15],\n",
       "        [16, 17, 18, 19]])"
      ]
     },
     "execution_count": 4,
     "metadata": {},
     "output_type": "execute_result"
    }
   ],
   "source": [
    "A = torch.arange(20).reshape(5, 4)\n",
    "A"
   ]
  },
  {
   "cell_type": "markdown",
   "id": "8d65eab4-bb1b-4fbf-860d-1df9d89e76a3",
   "metadata": {},
   "source": [
    "矩阵的转置"
   ]
  },
  {
   "cell_type": "code",
   "execution_count": 5,
   "id": "f5451f71-408b-4773-9104-11f26a052246",
   "metadata": {},
   "outputs": [
    {
     "data": {
      "text/plain": [
       "tensor([[ 0,  4,  8, 12, 16],\n",
       "        [ 1,  5,  9, 13, 17],\n",
       "        [ 2,  6, 10, 14, 18],\n",
       "        [ 3,  7, 11, 15, 19]])"
      ]
     },
     "execution_count": 5,
     "metadata": {},
     "output_type": "execute_result"
    }
   ],
   "source": [
    "A.T"
   ]
  },
  {
   "cell_type": "markdown",
   "id": "302aa5b2-3fa4-4014-bef4-7f379ba5f71d",
   "metadata": {},
   "source": [
    "`clone()`可以重新分配内存，将 A 的一个副本分配给 B，而简单的`B = A`只是更改了 A 的索引"
   ]
  },
  {
   "cell_type": "code",
   "execution_count": 6,
   "id": "c13ffaaa-0d97-4a77-8193-966f76ba6cdc",
   "metadata": {},
   "outputs": [
    {
     "data": {
      "text/plain": [
       "tensor([[ 0,  1,  2,  3],\n",
       "        [ 4,  5,  6,  7],\n",
       "        [ 8,  9, 10, 11],\n",
       "        [12, 13, 14, 15],\n",
       "        [16, 17, 18, 19]])"
      ]
     },
     "execution_count": 6,
     "metadata": {},
     "output_type": "execute_result"
    }
   ],
   "source": [
    "B = A.clone()\n",
    "B"
   ]
  },
  {
   "cell_type": "markdown",
   "id": "4facbf70-cea8-495e-958c-e9f6c9617e2b",
   "metadata": {},
   "source": [
    "两个矩阵按元素乘法称为*哈达玛积（Hadamard product）*"
   ]
  },
  {
   "cell_type": "code",
   "execution_count": 7,
   "id": "6d64cdb6-0a74-4c84-ae0d-017d3c709096",
   "metadata": {},
   "outputs": [
    {
     "data": {
      "text/plain": [
       "tensor([[  0,   1,   4,   9],\n",
       "        [ 16,  25,  36,  49],\n",
       "        [ 64,  81, 100, 121],\n",
       "        [144, 169, 196, 225],\n",
       "        [256, 289, 324, 361]])"
      ]
     },
     "execution_count": 7,
     "metadata": {},
     "output_type": "execute_result"
    }
   ],
   "source": [
    "A * B"
   ]
  },
  {
   "cell_type": "markdown",
   "id": "90c3fa41-1947-4add-aa90-9512bee740ea",
   "metadata": {},
   "source": [
    "当一个标量与一个矩阵做算术运算，意味着这个矩阵所有元素都会与这个标量做算术运算"
   ]
  },
  {
   "cell_type": "code",
   "execution_count": 8,
   "id": "49762335-d78b-4ca8-a041-82a4037ae1ea",
   "metadata": {},
   "outputs": [
    {
     "data": {
      "text/plain": [
       "(tensor([[ 0,  1,  2,  3],\n",
       "         [ 4,  5,  6,  7],\n",
       "         [ 8,  9, 10, 11],\n",
       "         [12, 13, 14, 15],\n",
       "         [16, 17, 18, 19]]),\n",
       " tensor([[ 2,  3,  4,  5],\n",
       "         [ 6,  7,  8,  9],\n",
       "         [10, 11, 12, 13],\n",
       "         [14, 15, 16, 17],\n",
       "         [18, 19, 20, 21]]),\n",
       " tensor([[ 0,  2,  4,  6],\n",
       "         [ 8, 10, 12, 14],\n",
       "         [16, 18, 20, 22],\n",
       "         [24, 26, 28, 30],\n",
       "         [32, 34, 36, 38]]))"
      ]
     },
     "execution_count": 8,
     "metadata": {},
     "output_type": "execute_result"
    }
   ],
   "source": [
    "a = 2\n",
    "X = torch.arange(20).reshape(5, 4)\n",
    "X, a + X, a * X"
   ]
  },
  {
   "cell_type": "markdown",
   "id": "b7e1483d-ffcd-4649-94a7-0e7c61cc0d4b",
   "metadata": {},
   "source": [
    "指定维度求和张量，其中参数`axis`代表维度值，从 0 开始，与`reshape()`中的参数对应\n",
    "\n",
    "如二维张量的`sum(axis = 0)`代表按行求和，既将所有行加为一行"
   ]
  },
  {
   "cell_type": "code",
   "execution_count": 9,
   "id": "d9ed6abe-31f9-43fd-bcec-1003c7fbfc0b",
   "metadata": {},
   "outputs": [
    {
     "data": {
      "text/plain": [
       "tensor([[ 0,  1,  2,  3],\n",
       "        [ 4,  5,  6,  7],\n",
       "        [ 8,  9, 10, 11],\n",
       "        [12, 13, 14, 15],\n",
       "        [16, 17, 18, 19]])"
      ]
     },
     "execution_count": 9,
     "metadata": {},
     "output_type": "execute_result"
    }
   ],
   "source": [
    "A = torch.arange(20).reshape(5, 4)\n",
    "A"
   ]
  },
  {
   "cell_type": "code",
   "execution_count": 10,
   "id": "b9966347-a5e3-45c1-ba52-5b4bd7e5a106",
   "metadata": {},
   "outputs": [
    {
     "data": {
      "text/plain": [
       "tensor([40, 45, 50, 55])"
      ]
     },
     "execution_count": 10,
     "metadata": {},
     "output_type": "execute_result"
    }
   ],
   "source": [
    "A.sum(axis = 0)"
   ]
  },
  {
   "cell_type": "markdown",
   "id": "2a13c3c6-fc05-4643-822b-d6b0f0a06466",
   "metadata": {},
   "source": [
    "多维张量求和也类似，若对第 0 维求和，空间上就是前后相加，可以加以意会"
   ]
  },
  {
   "cell_type": "code",
   "execution_count": 11,
   "id": "027e462b-7364-4ce6-b683-0a4bec1bcaa2",
   "metadata": {},
   "outputs": [
    {
     "data": {
      "text/plain": [
       "tensor([[[ 0,  1,  2,  3],\n",
       "         [ 4,  5,  6,  7],\n",
       "         [ 8,  9, 10, 11],\n",
       "         [12, 13, 14, 15],\n",
       "         [16, 17, 18, 19]],\n",
       "\n",
       "        [[20, 21, 22, 23],\n",
       "         [24, 25, 26, 27],\n",
       "         [28, 29, 30, 31],\n",
       "         [32, 33, 34, 35],\n",
       "         [36, 37, 38, 39]]])"
      ]
     },
     "execution_count": 11,
     "metadata": {},
     "output_type": "execute_result"
    }
   ],
   "source": [
    "B = torch.arange(20 * 2).reshape(2, 5, 4) #batch = 2\n",
    "B"
   ]
  },
  {
   "cell_type": "code",
   "execution_count": 12,
   "id": "1e63c769-9dcf-4a72-ad81-610010eb5cfb",
   "metadata": {},
   "outputs": [
    {
     "data": {
      "text/plain": [
       "(tensor([[20, 22, 24, 26],\n",
       "         [28, 30, 32, 34],\n",
       "         [36, 38, 40, 42],\n",
       "         [44, 46, 48, 50],\n",
       "         [52, 54, 56, 58]]),\n",
       " tensor([[ 40,  45,  50,  55],\n",
       "         [140, 145, 150, 155]]),\n",
       " tensor([[  6,  22,  38,  54,  70],\n",
       "         [ 86, 102, 118, 134, 150]]))"
      ]
     },
     "execution_count": 12,
     "metadata": {},
     "output_type": "execute_result"
    }
   ],
   "source": [
    "B.sum(axis = 0), B.sum(axis = 1), B.sum(axis = 2)"
   ]
  },
  {
   "cell_type": "markdown",
   "id": "04108d37-cec8-4d1a-a588-5db86ad0f99d",
   "metadata": {},
   "source": [
    "也可以同时对多个维度求和，对哪个维度求和，形状就成为剩下形状的样子"
   ]
  },
  {
   "cell_type": "code",
   "execution_count": 13,
   "id": "2d3cfe24-7b3c-42f9-ab8b-7a4e49dc6e0a",
   "metadata": {},
   "outputs": [
    {
     "data": {
      "text/plain": [
       "(tensor([[[ 0,  1,  2,  3],\n",
       "          [ 4,  5,  6,  7],\n",
       "          [ 8,  9, 10, 11],\n",
       "          [12, 13, 14, 15],\n",
       "          [16, 17, 18, 19]],\n",
       " \n",
       "         [[20, 21, 22, 23],\n",
       "          [24, 25, 26, 27],\n",
       "          [28, 29, 30, 31],\n",
       "          [32, 33, 34, 35],\n",
       "          [36, 37, 38, 39]]]),\n",
       " tensor([[20, 22, 24, 26],\n",
       "         [28, 30, 32, 34],\n",
       "         [36, 38, 40, 42],\n",
       "         [44, 46, 48, 50],\n",
       "         [52, 54, 56, 58]]),\n",
       " tensor([180, 190, 200, 210]))"
      ]
     },
     "execution_count": 13,
     "metadata": {},
     "output_type": "execute_result"
    }
   ],
   "source": [
    "B, B.sum(axis = 0), B.sum(axis = [0, 1]) #先对 0 维相加，再对 1 维求和"
   ]
  },
  {
   "cell_type": "markdown",
   "id": "9cac2f45-49be-4821-b246-e74c4f0ee650",
   "metadata": {},
   "source": [
    "与求和相关的操作是求均值"
   ]
  },
  {
   "cell_type": "code",
   "execution_count": 14,
   "id": "9bee8ca6-0288-4647-a3ec-63233d200a3f",
   "metadata": {},
   "outputs": [
    {
     "data": {
      "text/plain": [
       "(tensor(9.5000), tensor(9.5000))"
      ]
     },
     "execution_count": 14,
     "metadata": {},
     "output_type": "execute_result"
    }
   ],
   "source": [
    "A = torch.arange(20, dtype = torch.float32).reshape(5, 4)\n",
    "A.mean(), A.sum() / A.numel() #操作等价"
   ]
  },
  {
   "cell_type": "markdown",
   "id": "27a63bcc-1e8e-4598-be84-ddb3d2627b07",
   "metadata": {},
   "source": [
    "均值也可以和求和一样按维度求"
   ]
  },
  {
   "cell_type": "code",
   "execution_count": 15,
   "id": "8314ea34-8c4a-425e-849d-87c774fa1751",
   "metadata": {},
   "outputs": [
    {
     "data": {
      "text/plain": [
       "(tensor([[ 0.,  1.,  2.,  3.],\n",
       "         [ 4.,  5.,  6.,  7.],\n",
       "         [ 8.,  9., 10., 11.],\n",
       "         [12., 13., 14., 15.],\n",
       "         [16., 17., 18., 19.]]),\n",
       " tensor([ 8.,  9., 10., 11.]),\n",
       " tensor([ 8.,  9., 10., 11.]))"
      ]
     },
     "execution_count": 15,
     "metadata": {},
     "output_type": "execute_result"
    }
   ],
   "source": [
    "A, A.mean(axis = 0), A.sum(axis = 0) / A.shape[0] # 操作等价，shape[0]的意思是行数（0维形状）"
   ]
  },
  {
   "cell_type": "code",
   "execution_count": 16,
   "id": "7335d43f-c101-4e6a-b561-62da1d1921ae",
   "metadata": {},
   "outputs": [
    {
     "data": {
      "text/plain": [
       "tensor([ 6., 22., 38., 54., 70.])"
      ]
     },
     "execution_count": 16,
     "metadata": {},
     "output_type": "execute_result"
    }
   ],
   "source": [
    "A.sum(axis = 1)"
   ]
  },
  {
   "cell_type": "markdown",
   "id": "618071b3-2a29-469a-8278-dfdeb1f5eba0",
   "metadata": {},
   "source": [
    "使用`keepdims = True`参数使得计算总和后轴数保持不变"
   ]
  },
  {
   "cell_type": "code",
   "execution_count": 28,
   "id": "98ca6f66-420b-4268-9ca5-9488270275f1",
   "metadata": {},
   "outputs": [
    {
     "data": {
      "text/plain": [
       "(tensor([[ 0.,  1.,  2.,  3.,  4.],\n",
       "         [ 5.,  6.,  7.,  8.,  9.],\n",
       "         [10., 11., 12., 13., 14.],\n",
       "         [15., 16., 17., 18., 19.]]),\n",
       " tensor([[10.],\n",
       "         [35.],\n",
       "         [60.],\n",
       "         [85.]]))"
      ]
     },
     "execution_count": 28,
     "metadata": {},
     "output_type": "execute_result"
    }
   ],
   "source": [
    "A, A.sum(axis = 1, keepdims = True)"
   ]
  },
  {
   "cell_type": "markdown",
   "id": "3f4bd43c-84b8-4fcf-b431-9128cff5f75c",
   "metadata": {},
   "source": [
    "计算矩阵某个轴的累计总和，例如当`axis = 0`时，按行从上到下加下来（第一行加到第二行...），既行变换"
   ]
  },
  {
   "cell_type": "code",
   "execution_count": 18,
   "id": "c4265fb3-4a71-429c-be6b-2bc593308b8e",
   "metadata": {},
   "outputs": [
    {
     "data": {
      "text/plain": [
       "tensor([[ 0.,  1.,  2.,  3.],\n",
       "        [ 4.,  6.,  8., 10.],\n",
       "        [12., 15., 18., 21.],\n",
       "        [24., 28., 32., 36.],\n",
       "        [40., 45., 50., 55.]])"
      ]
     },
     "execution_count": 18,
     "metadata": {},
     "output_type": "execute_result"
    }
   ],
   "source": [
    "A.cumsum(axis = 0)"
   ]
  },
  {
   "cell_type": "markdown",
   "id": "72b093c6-b175-4b0d-90c4-c121fce2d1ae",
   "metadata": {},
   "source": [
    "使用`torch.dot()`求向量点积"
   ]
  },
  {
   "cell_type": "code",
   "execution_count": 19,
   "id": "ccd96fa0-ed6d-4865-8874-ff0bd77a494c",
   "metadata": {},
   "outputs": [
    {
     "data": {
      "text/plain": [
       "(tensor([1., 1., 1., 1., 1.]), tensor([0., 1., 2., 3., 4.]))"
      ]
     },
     "execution_count": 19,
     "metadata": {},
     "output_type": "execute_result"
    }
   ],
   "source": [
    "a = torch.ones(5, dtype = torch.float32)\n",
    "b = torch.arange(5, dtype = torch.float32)\n",
    "a, b"
   ]
  },
  {
   "cell_type": "code",
   "execution_count": 20,
   "id": "69d91fa2-6126-4e32-bad7-340e45cfe8e2",
   "metadata": {},
   "outputs": [
    {
     "data": {
      "text/plain": [
       "(tensor(10.), tensor(10.))"
      ]
     },
     "execution_count": 20,
     "metadata": {},
     "output_type": "execute_result"
    }
   ],
   "source": [
    "torch.dot(a, b), torch.sum(a * b) #两者操作一致"
   ]
  },
  {
   "cell_type": "markdown",
   "id": "906dc3e9-6b47-4829-9e72-51faa5c2b24c",
   "metadata": {},
   "source": [
    "使用`torch.mv()--matrix, vector`让矩阵和向量点乘"
   ]
  },
  {
   "cell_type": "code",
   "execution_count": 21,
   "id": "5dd42222-3093-4f8c-8839-d0d665717cc1",
   "metadata": {},
   "outputs": [
    {
     "data": {
      "text/plain": [
       "(tensor([[ 0.,  1.,  2.,  3.,  4.],\n",
       "         [ 5.,  6.,  7.,  8.,  9.],\n",
       "         [10., 11., 12., 13., 14.],\n",
       "         [15., 16., 17., 18., 19.]]),\n",
       " tensor([1., 1., 1., 1., 1.]))"
      ]
     },
     "execution_count": 21,
     "metadata": {},
     "output_type": "execute_result"
    }
   ],
   "source": [
    "A = torch.arange(20, dtype = torch.float32).reshape(4, 5)\n",
    "x = torch.ones(5, dtype = torch.float32)\n",
    "A, x"
   ]
  },
  {
   "cell_type": "code",
   "execution_count": 22,
   "id": "1b2a72bb-127e-414d-ab8e-bf6fa7afcc23",
   "metadata": {},
   "outputs": [
    {
     "data": {
      "text/plain": [
       "tensor([10., 35., 60., 85.])"
      ]
     },
     "execution_count": 22,
     "metadata": {},
     "output_type": "execute_result"
    }
   ],
   "source": [
    "torch.mv(A, x)"
   ]
  },
  {
   "cell_type": "markdown",
   "id": "be2085d5-2d74-406c-a14c-8c7603a397eb",
   "metadata": {},
   "source": [
    "使用`torch.mm()--matrix, matrix`做矩阵之间的点积"
   ]
  },
  {
   "cell_type": "code",
   "execution_count": 23,
   "id": "52998edf-0b16-493e-845e-8139d98c9529",
   "metadata": {},
   "outputs": [],
   "source": [
    "B = torch.arange(20, dtype = torch.float32).reshape(5, 4)"
   ]
  },
  {
   "cell_type": "code",
   "execution_count": 24,
   "id": "c1fcd3a8-912e-44fa-ba5f-5a6ef7892c0c",
   "metadata": {},
   "outputs": [
    {
     "data": {
      "text/plain": [
       "tensor([[120., 130., 140., 150.],\n",
       "        [320., 355., 390., 425.],\n",
       "        [520., 580., 640., 700.],\n",
       "        [720., 805., 890., 975.]])"
      ]
     },
     "execution_count": 24,
     "metadata": {},
     "output_type": "execute_result"
    }
   ],
   "source": [
    "torch.mm(A, B)"
   ]
  },
  {
   "cell_type": "markdown",
   "id": "c1997fbb-77ea-4c5a-ac9a-dda1ba306d01",
   "metadata": {},
   "source": [
    "$L_2$ 范数是向量元素平方和的平方根"
   ]
  },
  {
   "cell_type": "code",
   "execution_count": 25,
   "id": "9ae420c8-729f-425e-9912-683dbd72eac2",
   "metadata": {},
   "outputs": [
    {
     "data": {
      "text/plain": [
       "tensor(5.)"
      ]
     },
     "execution_count": 25,
     "metadata": {},
     "output_type": "execute_result"
    }
   ],
   "source": [
    "y = torch.tensor([3.0, -4.0])\n",
    "torch.norm(y)"
   ]
  },
  {
   "cell_type": "markdown",
   "id": "4227c6d1-e7c4-4358-b2f8-a0989fd388de",
   "metadata": {},
   "source": [
    "$L_1$ 范数就是向量元素的绝对值求和"
   ]
  },
  {
   "cell_type": "code",
   "execution_count": 26,
   "id": "aaf48999-bffd-4bf9-a62e-46abfad32e80",
   "metadata": {},
   "outputs": [
    {
     "data": {
      "text/plain": [
       "tensor(7.)"
      ]
     },
     "execution_count": 26,
     "metadata": {},
     "output_type": "execute_result"
    }
   ],
   "source": [
    "torch.abs(y).sum()"
   ]
  },
  {
   "cell_type": "markdown",
   "id": "0227e986-3932-49ef-b756-8421d73e0474",
   "metadata": {},
   "source": [
    "矩阵的 *佛罗贝尼乌斯范数（Frobenius norm）* 是矩阵元素平方和的平方根"
   ]
  },
  {
   "cell_type": "code",
   "execution_count": 27,
   "id": "2f81b2d8-335a-4db6-b65c-0db9f36f80b5",
   "metadata": {},
   "outputs": [
    {
     "data": {
      "text/plain": [
       "tensor(49.6991)"
      ]
     },
     "execution_count": 27,
     "metadata": {},
     "output_type": "execute_result"
    }
   ],
   "source": [
    "torch.norm(A)"
   ]
  },
  {
   "cell_type": "code",
   "execution_count": null,
   "id": "1ba6e78d-71f0-4161-b0be-cd5e7e45205b",
   "metadata": {},
   "outputs": [],
   "source": []
  }
 ],
 "metadata": {
  "kernelspec": {
   "display_name": "Python 3 (ipykernel)",
   "language": "python",
   "name": "python3"
  },
  "language_info": {
   "codemirror_mode": {
    "name": "ipython",
    "version": 3
   },
   "file_extension": ".py",
   "mimetype": "text/x-python",
   "name": "python",
   "nbconvert_exporter": "python",
   "pygments_lexer": "ipython3",
   "version": "3.10.14"
  }
 },
 "nbformat": 4,
 "nbformat_minor": 5
}
