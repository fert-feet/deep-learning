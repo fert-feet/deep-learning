{
 "cells": [
  {
   "cell_type": "code",
   "execution_count": 1,
   "id": "551d42ca-413b-44f4-adea-b3296d668add",
   "metadata": {},
   "outputs": [],
   "source": [
    "import torch\n",
    "from torch import nn\n",
    "from d2l import torch as d2l"
   ]
  },
  {
   "cell_type": "markdown",
   "id": "ed35480b-3be1-4264-92ef-3e7d7ea83cb5",
   "metadata": {},
   "source": [
    "计算 2 维互相关运算"
   ]
  },
  {
   "cell_type": "code",
   "execution_count": 7,
   "id": "b7333d44-5b4f-49d8-8380-d9d128f2217f",
   "metadata": {},
   "outputs": [],
   "source": [
    "def corr2d(X, K):\n",
    "    K_h, K_w = K.shape # 卷积核高宽\n",
    "    X_h, X_w = X.shape # 输入图像高宽\n",
    "    Y = torch.zeros(X_h - K_h + 1, X_w - K_w + 1) # 输出\n",
    "    for i in range(Y.shape[0]):\n",
    "        for j in range(Y.shape[1]):\n",
    "            Y[i, j] = (X[i:i + K_h, j:j + K_w] * K).sum() # i:i + K_h 其实就是取从 i 开始的 K_h 个元素\n",
    "    return Y"
   ]
  },
  {
   "cell_type": "code",
   "execution_count": 31,
   "id": "26e2e5b7-4236-4b6b-bdf3-bf5a5fedfdb8",
   "metadata": {},
   "outputs": [
    {
     "data": {
      "text/plain": [
       "(tensor([[0, 1, 2],\n",
       "         [3, 4, 5],\n",
       "         [6, 7, 8]]),\n",
       " tensor([[1., 1.],\n",
       "         [1., 1.]]),\n",
       " tensor([[ 8., 12.],\n",
       "         [20., 24.]]))"
      ]
     },
     "execution_count": 31,
     "metadata": {},
     "output_type": "execute_result"
    }
   ],
   "source": [
    "X = torch.arange(9).reshape(3, 3)\n",
    "K = torch.ones(2, 2)\n",
    "X, K, corr2d(X, K)"
   ]
  },
  {
   "cell_type": "markdown",
   "id": "2db0768d-9e36-4273-a5be-0b9670b53b64",
   "metadata": {},
   "source": [
    "实现二维卷积层"
   ]
  },
  {
   "cell_type": "code",
   "execution_count": 9,
   "id": "4ae9f5f5-003f-4a16-ab21-b1afeacae85e",
   "metadata": {},
   "outputs": [],
   "source": [
    "class Conv2D(nn.Module):\n",
    "    def __init__(self, kernal_size):\n",
    "        super().__init__()\n",
    "        self.weight = nn.Parameter(torch.rand(kernal_size))\n",
    "        self.bias = nn.Parameter(torch.zeros(1))\n",
    "\n",
    "    def forward(self, X):\n",
    "        return corr2d(X, self.weight) + self.bias"
   ]
  },
  {
   "cell_type": "markdown",
   "id": "b52a5271-8f71-4f96-8be5-72096a22ecaa",
   "metadata": {},
   "source": [
    "卷积层的简单应用：检测图像不同颜色的边缘，如下 X 的边缘在 1 和 0 变换处"
   ]
  },
  {
   "cell_type": "code",
   "execution_count": 33,
   "id": "1c6d265e-517e-40ec-abec-90122fe2c1dc",
   "metadata": {},
   "outputs": [
    {
     "data": {
      "text/plain": [
       "tensor([[1., 1., 0., 0., 0., 0., 1., 1.],\n",
       "        [1., 1., 0., 0., 0., 0., 1., 1.],\n",
       "        [1., 1., 0., 0., 0., 0., 1., 1.],\n",
       "        [1., 1., 0., 0., 0., 0., 1., 1.],\n",
       "        [1., 1., 0., 0., 0., 0., 1., 1.],\n",
       "        [1., 1., 0., 0., 0., 0., 1., 1.]])"
      ]
     },
     "execution_count": 33,
     "metadata": {},
     "output_type": "execute_result"
    }
   ],
   "source": [
    "X = torch.ones(6, 8)\n",
    "X[:, 2:6] = 0\n",
    "X"
   ]
  },
  {
   "cell_type": "markdown",
   "id": "3d51b370-8af7-4258-ac91-8a741bee5f10",
   "metadata": {},
   "source": [
    "如下 Kernal，当左右像素无变化时，就是 0，左右有变化的时候，就不为 0，不为 0 的部分就是颜色变化的边界"
   ]
  },
  {
   "cell_type": "code",
   "execution_count": 36,
   "id": "4764fca3-177e-4a0e-add2-de49ea3f7306",
   "metadata": {},
   "outputs": [
    {
     "data": {
      "text/plain": [
       "tensor([[ 0.,  1.,  0.,  0.,  0., -1.,  0.],\n",
       "        [ 0.,  1.,  0.,  0.,  0., -1.,  0.],\n",
       "        [ 0.,  1.,  0.,  0.,  0., -1.,  0.],\n",
       "        [ 0.,  1.,  0.,  0.,  0., -1.,  0.],\n",
       "        [ 0.,  1.,  0.,  0.,  0., -1.,  0.],\n",
       "        [ 0.,  1.,  0.,  0.,  0., -1.,  0.]])"
      ]
     },
     "execution_count": 36,
     "metadata": {},
     "output_type": "execute_result"
    }
   ],
   "source": [
    "K = torch.tensor([[1.0, -1.0]]) # 格式要对应\n",
    "Y = corr2d(X, K)\n",
    "Y"
   ]
  },
  {
   "cell_type": "markdown",
   "id": "d1ca0436-1021-4e5d-8b23-681bc023ac45",
   "metadata": {},
   "source": [
    "输入`X, Y` 学习得出 `K` "
   ]
  },
  {
   "cell_type": "code",
   "execution_count": 37,
   "id": "ce49d46b-e121-4f61-814d-43e25c01f276",
   "metadata": {},
   "outputs": [
    {
     "name": "stdout",
     "output_type": "stream",
     "text": [
      "batch 2, loss 4.930\n",
      "batch 4, loss 1.612\n",
      "batch 6, loss 0.592\n",
      "batch 8, loss 0.231\n",
      "batch 10, loss 0.093\n"
     ]
    }
   ],
   "source": [
    "conv2d = nn.Conv2d(1, 1, kernel_size=(1, 2), bias=False) # 1，1 是输入和输出通道数（黑白照片通道数是 1 ）\n",
    "\n",
    "X = X.reshape((1, 1, 6, 8)) # 批量大小，通道数，高，宽 \n",
    "Y = Y.reshape((1, 1, 6, 7)) # 可以自己写\n",
    "\n",
    "for i in range(10):\n",
    "    Y_hat = conv2d(X)\n",
    "    l = (Y_hat - Y)**2 # loss\n",
    "    conv2d.zero_grad() #为什么\n",
    "    l.sum().backward()\n",
    "    conv2d.weight.data[:] -= 3e-2 * conv2d.weight.grad # weight.grad 就是 l 对 weight 求导的结果 , lr = 0.03\n",
    "    if (i + 1) % 2 == 0:\n",
    "        print(f'batch {i+1}, loss {l.sum():.3f}')"
   ]
  },
  {
   "cell_type": "markdown",
   "id": "e2bcb7a7-a2dd-4718-9782-b85d98ccb79c",
   "metadata": {},
   "source": [
    "最终学习的权重（Kernal）"
   ]
  },
  {
   "cell_type": "code",
   "execution_count": 41,
   "id": "7eb51bc2-88e7-4ade-956d-1bce73ec0a45",
   "metadata": {},
   "outputs": [
    {
     "data": {
      "text/plain": [
       "tensor([[ 1.0245, -0.9620]])"
      ]
     },
     "execution_count": 41,
     "metadata": {},
     "output_type": "execute_result"
    }
   ],
   "source": [
    "conv2d.weight.data.reshape(1, 2)"
   ]
  },
  {
   "cell_type": "code",
   "execution_count": null,
   "id": "ebc61282-d85b-4d47-9b96-7738fba04922",
   "metadata": {},
   "outputs": [],
   "source": []
  }
 ],
 "metadata": {
  "kernelspec": {
   "display_name": "Python 3 (ipykernel)",
   "language": "python",
   "name": "python3"
  },
  "language_info": {
   "codemirror_mode": {
    "name": "ipython",
    "version": 3
   },
   "file_extension": ".py",
   "mimetype": "text/x-python",
   "name": "python",
   "nbconvert_exporter": "python",
   "pygments_lexer": "ipython3",
   "version": "3.10.14"
  }
 },
 "nbformat": 4,
 "nbformat_minor": 5
}
