{
 "cells": [
  {
   "cell_type": "markdown",
   "id": "2f39e4cb-18d8-460f-ae22-8075cf96585b",
   "metadata": {},
   "source": [
    "### 数据部分"
   ]
  },
  {
   "cell_type": "code",
   "execution_count": 1,
   "id": "2151ae34-55a9-4cf3-928c-c873b2c4bebb",
   "metadata": {},
   "outputs": [],
   "source": [
    "import torch\n",
    "from torch import nn\n",
    "from d2l import torch as d2l\n",
    "\n",
    "batch_size = 256\n",
    "train_iter, test_iter = d2l.load_data_fashion_mnist(batch_size)"
   ]
  },
  {
   "cell_type": "markdown",
   "id": "6e0de3e3-c65b-4e73-9ce7-e12bc2eb65c0",
   "metadata": {},
   "source": [
    "Softmax 回归的输入层是一个全连接层"
   ]
  },
  {
   "cell_type": "markdown",
   "id": "807c3f18-b5c1-46a0-949f-16907d88f21e",
   "metadata": {},
   "source": [
    "Pytorch 不会隐式地调整输入的形状\n",
    "因此，我们定义了展平层（flatten）在线性层之前调整网络输入状态，就是把图片展平成 784，原先是 28 * 28"
   ]
  },
  {
   "cell_type": "markdown",
   "id": "15521dbc-9b4b-4d49-9f64-1b855d2bf9e9",
   "metadata": {},
   "source": [
    "`init_weights` 函数用于生成 `w`"
   ]
  },
  {
   "cell_type": "code",
   "execution_count": 4,
   "id": "0addd16d-b104-4f55-b287-c4ca624297c8",
   "metadata": {},
   "outputs": [],
   "source": [
    "net = nn.Sequential(nn.Flatten(), nn.Linear(784, 10)) # 从左至右为从里到外的层数\n",
    "\n",
    "def init_weights(m):\n",
    "    if type(m) == nn.Linear:\n",
    "        nn.init.normal_(m.weight, std=0.01) # std 是标准差\n",
    "\n",
    "net.apply(init_weights) # 对每个层次都做一次初始化"
   ]
  },
  {
   "cell_type": "code",
   "execution_count": null,
   "id": "f8dc4b90-4fd7-4d47-8315-4b13778d9f31",
   "metadata": {},
   "outputs": [],
   "source": []
  }
 ],
 "metadata": {
  "kernelspec": {
   "display_name": "Python 3 (ipykernel)",
   "language": "python",
   "name": "python3"
  },
  "language_info": {
   "codemirror_mode": {
    "name": "ipython",
    "version": 3
   },
   "file_extension": ".py",
   "mimetype": "text/x-python",
   "name": "python",
   "nbconvert_exporter": "python",
   "pygments_lexer": "ipython3",
   "version": "3.10.14"
  }
 },
 "nbformat": 4,
 "nbformat_minor": 5
}
