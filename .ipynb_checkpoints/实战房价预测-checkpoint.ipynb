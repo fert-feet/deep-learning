{
 "cells": [
  {
   "cell_type": "markdown",
   "id": "1093537a-37e8-434c-9fdd-ecc7c22122ce",
   "metadata": {},
   "source": [
    "### 下载和缓存数据集"
   ]
  },
  {
   "cell_type": "code",
   "execution_count": 2,
   "id": "28d7b3e0-b014-436c-80e8-12f81747397f",
   "metadata": {},
   "outputs": [],
   "source": [
    "import hashlib\n",
    "import os\n",
    "import tarfile\n",
    "import zipfile\n",
    "import requests\n",
    "\n",
    "DATA_HUB = dict()\n",
    "DATA_URL = 'http://d2l-data.s3-accelerate.amazonaws.com/'"
   ]
  },
  {
   "cell_type": "markdown",
   "id": "7a27d291-1d0c-4862-b16b-48d78289482b",
   "metadata": {},
   "source": [
    "`download` 函数用于下载 `DATA_HUB` 中对应数据集名字的数据，若已下载过则验证后直接使用"
   ]
  },
  {
   "cell_type": "code",
   "execution_count": 16,
   "id": "eeaf5259-a6d0-403d-b1ac-2bbc43f69573",
   "metadata": {},
   "outputs": [],
   "source": [
    "def download(name, cache_dir=os.path.join('.', 'data')):\n",
    "    assert name in DATA_HUB, f\"{name} 不存在于 {DATA_HUB}\" # 传入的数据集名字不存在（没有 url 怎么下载？）\n",
    "    url, sha1_hash = DATA_HUB[name] # DATA_HUB 存储数据集对应链接和 sha1 加密数据\n",
    "    os.makedirs(cache_dir, exist_ok=True)\n",
    "    fname = os.path.join(cache_dir, url.split('/')[-1]) # 数据集名字就在链接中拿\n",
    "    if os.path.exists(fname): # 如果已经下载过就验证 sha1 是否对应 DATA_HUB 中存储的值\n",
    "        sha1 = hashlib.sha1()\n",
    "        with open(fname, 'rb') as f:\n",
    "            while True:\n",
    "                data = f.read(1048576) # 读 1MB\n",
    "                if not data: #如果为空（文件读完就结束）\n",
    "                    break\n",
    "                sha1.updata(data) # 计算哈希值\n",
    "        if sha1.hexdigest() == sha1_hash: # hexdigest() 返回 sha1 加密的摘要，如果匹配则证明文件对了（已经下载的文件可以用）\n",
    "            return fname\n",
    "    print(f\"从{url}下载{fname}\")\n",
    "    r = requests.get(url, stream=True, verify=True)\n",
    "    with open(fname, 'wb') as f:\n",
    "        f.write(r.content)\n",
    "    return fname"
   ]
  },
  {
   "cell_type": "markdown",
   "id": "0d2b6449-4c13-4cf8-8c88-cef56f342581",
   "metadata": {},
   "source": [
    "`download_extract` 函数用于下载并解压数据集"
   ]
  },
  {
   "cell_type": "code",
   "execution_count": 18,
   "id": "11a6326d-2c21-4d14-a389-a4dab6989d9d",
   "metadata": {},
   "outputs": [],
   "source": [
    "def download_extract(name, folder=None): # 有问题，folder 没被用到  //TODO\n",
    "    fname = download(name) # fname 是下载数据集的完整目录\n",
    "    base_dir = os.path.dirname(fname) # 拿到前置目录部分（非文件名+后缀）\n",
    "    data_dir, ext = os.path.splitext(fname) # 如 [path/to/dir/filename, .exe]\n",
    "    if ext == '.zip':\n",
    "        fp = zipfile.ZipFile(fname, 'r')\n",
    "    elif ext in ('.tar', '.gz'):\n",
    "        fp = tarfile.open(fname, 'r')\n",
    "    else:\n",
    "        assert False, '只能解压zip/tar'\n",
    "    fp.extractall(base_dir) # 解压到同级目录\n",
    "    return os.path.join(base_dir, folder) if folder else data_dir"
   ]
  },
  {
   "cell_type": "markdown",
   "id": "437679ca-19ca-4d33-bd6e-b9882b260602",
   "metadata": {},
   "source": [
    "`download_all` 函数可以下载字典里所有数据"
   ]
  },
  {
   "cell_type": "code",
   "execution_count": 20,
   "id": "41a2e5e5-55c1-4343-b6d2-3ad69aa5b2f5",
   "metadata": {},
   "outputs": [],
   "source": [
    "def download_all():\n",
    "    for name in DATA_HUB:\n",
    "        download(name)"
   ]
  },
  {
   "cell_type": "code",
   "execution_count": null,
   "id": "8dc5d5e5-8de1-469d-8e24-6dc1663a912f",
   "metadata": {},
   "outputs": [],
   "source": []
  }
 ],
 "metadata": {
  "kernelspec": {
   "display_name": "Python 3 (ipykernel)",
   "language": "python",
   "name": "python3"
  },
  "language_info": {
   "codemirror_mode": {
    "name": "ipython",
    "version": 3
   },
   "file_extension": ".py",
   "mimetype": "text/x-python",
   "name": "python",
   "nbconvert_exporter": "python",
   "pygments_lexer": "ipython3",
   "version": "3.10.14"
  }
 },
 "nbformat": 4,
 "nbformat_minor": 5
}
